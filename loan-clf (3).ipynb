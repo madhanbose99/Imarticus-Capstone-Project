{
 "cells": [
  {
   "cell_type": "code",
   "execution_count": 1,
   "metadata": {
    "_cell_guid": "b1076dfc-b9ad-4769-8c92-a6c4dae69d19",
    "_uuid": "8f2839f25d086af736a60e9eeb907d3b93b6e0e5",
    "execution": {
     "iopub.execute_input": "2021-03-24T16:41:25.276955Z",
     "iopub.status.busy": "2021-03-24T16:41:25.276311Z",
     "iopub.status.idle": "2021-03-24T16:41:25.296253Z",
     "shell.execute_reply": "2021-03-24T16:41:25.295525Z"
    },
    "papermill": {
     "duration": 0.074948,
     "end_time": "2021-03-24T16:41:25.296476",
     "exception": false,
     "start_time": "2021-03-24T16:41:25.221528",
     "status": "completed"
    },
    "tags": []
   },
   "outputs": [
    {
     "name": "stdout",
     "output_type": "stream",
     "text": [
      "/kaggle/input/cleaneddata/train_1.0.csv\n",
      "/kaggle/input/tanuv10/Python Project - Bank Lending/XYZCorp_LendingData.txt\n",
      "/kaggle/input/tanuv10/Python Project - Bank Lending/Imarticus Problem Statement-14-10-17.docx\n",
      "/kaggle/input/tanuv10/Python Project - Bank Lending/DataDictionary-14-10-17.xlsx\n",
      "/kaggle/input/tanuv10/Python Project - Bank Lending/new python.html\n"
     ]
    }
   ],
   "source": [
    "# This Python 3 environment comes with many helpful analytics libraries installed\n",
    "# It is defined by the kaggle/python Docker image: https://github.com/kaggle/docker-python\n",
    "# For example, here's several helpful packages to load\n",
    "\n",
    "import numpy as np # linear algebra\n",
    "import pandas as pd # data processing, CSV file I/O (e.g. pd.read_csv)\n",
    "\n",
    "# Input data files are available in the read-only \"../input/\" directory\n",
    "# For example, running this (by clicking run or pressing Shift+Enter) will list all files under the input directory\n",
    "\n",
    "import os\n",
    "for dirname, _, filenames in os.walk('/kaggle/input'):\n",
    "    for filename in filenames:\n",
    "        print(os.path.join(dirname, filename))\n",
    "import matplotlib.pyplot as plt\n",
    "\n",
    "# You can write up to 20GB to the current directory (/kaggle/working/) that gets preserved as output when you create a version using \"Save & Run All\" \n",
    "# You can also write temporary files to /kaggle/temp/, but they won't be saved outside of the current session"
   ]
  },
  {
   "cell_type": "code",
   "execution_count": 2,
   "metadata": {
    "execution": {
     "iopub.execute_input": "2021-03-24T16:41:25.397009Z",
     "iopub.status.busy": "2021-03-24T16:41:25.396343Z",
     "iopub.status.idle": "2021-03-24T16:41:38.036855Z",
     "shell.execute_reply": "2021-03-24T16:41:38.035936Z"
    },
    "papermill": {
     "duration": 12.693014,
     "end_time": "2021-03-24T16:41:38.037026",
     "exception": false,
     "start_time": "2021-03-24T16:41:25.344012",
     "status": "completed"
    },
    "tags": []
   },
   "outputs": [
    {
     "name": "stderr",
     "output_type": "stream",
     "text": [
      "/opt/conda/lib/python3.7/site-packages/IPython/core/interactiveshell.py:3147: DtypeWarning: Columns (17,45,53) have mixed types.Specify dtype option on import or set low_memory=False.\n",
      "  interactivity=interactivity, compiler=compiler, result=result)\n"
     ]
    }
   ],
   "source": [
    "data = pd.read_csv(\"/kaggle/input/tanuv10/Python Project - Bank Lending/XYZCorp_LendingData.txt\",sep=\"\\t\")"
   ]
  },
  {
   "cell_type": "code",
   "execution_count": 3,
   "metadata": {
    "execution": {
     "iopub.execute_input": "2021-03-24T16:41:38.134170Z",
     "iopub.status.busy": "2021-03-24T16:41:38.133557Z",
     "iopub.status.idle": "2021-03-24T16:41:38.175127Z",
     "shell.execute_reply": "2021-03-24T16:41:38.174578Z"
    },
    "papermill": {
     "duration": 0.091103,
     "end_time": "2021-03-24T16:41:38.175260",
     "exception": false,
     "start_time": "2021-03-24T16:41:38.084157",
     "status": "completed"
    },
    "tags": []
   },
   "outputs": [
    {
     "data": {
      "text/html": [
       "<div>\n",
       "<style scoped>\n",
       "    .dataframe tbody tr th:only-of-type {\n",
       "        vertical-align: middle;\n",
       "    }\n",
       "\n",
       "    .dataframe tbody tr th {\n",
       "        vertical-align: top;\n",
       "    }\n",
       "\n",
       "    .dataframe thead th {\n",
       "        text-align: right;\n",
       "    }\n",
       "</style>\n",
       "<table border=\"1\" class=\"dataframe\">\n",
       "  <thead>\n",
       "    <tr style=\"text-align: right;\">\n",
       "      <th></th>\n",
       "      <th>id</th>\n",
       "      <th>member_id</th>\n",
       "      <th>loan_amnt</th>\n",
       "      <th>funded_amnt</th>\n",
       "      <th>funded_amnt_inv</th>\n",
       "      <th>term</th>\n",
       "      <th>int_rate</th>\n",
       "      <th>installment</th>\n",
       "      <th>grade</th>\n",
       "      <th>sub_grade</th>\n",
       "      <th>...</th>\n",
       "      <th>il_util</th>\n",
       "      <th>open_rv_12m</th>\n",
       "      <th>open_rv_24m</th>\n",
       "      <th>max_bal_bc</th>\n",
       "      <th>all_util</th>\n",
       "      <th>total_rev_hi_lim</th>\n",
       "      <th>inq_fi</th>\n",
       "      <th>total_cu_tl</th>\n",
       "      <th>inq_last_12m</th>\n",
       "      <th>default_ind</th>\n",
       "    </tr>\n",
       "  </thead>\n",
       "  <tbody>\n",
       "    <tr>\n",
       "      <th>0</th>\n",
       "      <td>1077501</td>\n",
       "      <td>1296599</td>\n",
       "      <td>5000.0</td>\n",
       "      <td>5000.0</td>\n",
       "      <td>4975.0</td>\n",
       "      <td>36 months</td>\n",
       "      <td>10.65</td>\n",
       "      <td>162.87</td>\n",
       "      <td>B</td>\n",
       "      <td>B2</td>\n",
       "      <td>...</td>\n",
       "      <td>NaN</td>\n",
       "      <td>NaN</td>\n",
       "      <td>NaN</td>\n",
       "      <td>NaN</td>\n",
       "      <td>NaN</td>\n",
       "      <td>NaN</td>\n",
       "      <td>NaN</td>\n",
       "      <td>NaN</td>\n",
       "      <td>NaN</td>\n",
       "      <td>0</td>\n",
       "    </tr>\n",
       "    <tr>\n",
       "      <th>1</th>\n",
       "      <td>1077430</td>\n",
       "      <td>1314167</td>\n",
       "      <td>2500.0</td>\n",
       "      <td>2500.0</td>\n",
       "      <td>2500.0</td>\n",
       "      <td>60 months</td>\n",
       "      <td>15.27</td>\n",
       "      <td>59.83</td>\n",
       "      <td>C</td>\n",
       "      <td>C4</td>\n",
       "      <td>...</td>\n",
       "      <td>NaN</td>\n",
       "      <td>NaN</td>\n",
       "      <td>NaN</td>\n",
       "      <td>NaN</td>\n",
       "      <td>NaN</td>\n",
       "      <td>NaN</td>\n",
       "      <td>NaN</td>\n",
       "      <td>NaN</td>\n",
       "      <td>NaN</td>\n",
       "      <td>1</td>\n",
       "    </tr>\n",
       "    <tr>\n",
       "      <th>2</th>\n",
       "      <td>1077175</td>\n",
       "      <td>1313524</td>\n",
       "      <td>2400.0</td>\n",
       "      <td>2400.0</td>\n",
       "      <td>2400.0</td>\n",
       "      <td>36 months</td>\n",
       "      <td>15.96</td>\n",
       "      <td>84.33</td>\n",
       "      <td>C</td>\n",
       "      <td>C5</td>\n",
       "      <td>...</td>\n",
       "      <td>NaN</td>\n",
       "      <td>NaN</td>\n",
       "      <td>NaN</td>\n",
       "      <td>NaN</td>\n",
       "      <td>NaN</td>\n",
       "      <td>NaN</td>\n",
       "      <td>NaN</td>\n",
       "      <td>NaN</td>\n",
       "      <td>NaN</td>\n",
       "      <td>0</td>\n",
       "    </tr>\n",
       "  </tbody>\n",
       "</table>\n",
       "<p>3 rows × 73 columns</p>\n",
       "</div>"
      ],
      "text/plain": [
       "        id  member_id  loan_amnt  funded_amnt  funded_amnt_inv        term  \\\n",
       "0  1077501    1296599     5000.0       5000.0           4975.0   36 months   \n",
       "1  1077430    1314167     2500.0       2500.0           2500.0   60 months   \n",
       "2  1077175    1313524     2400.0       2400.0           2400.0   36 months   \n",
       "\n",
       "   int_rate  installment grade sub_grade  ... il_util open_rv_12m open_rv_24m  \\\n",
       "0     10.65       162.87     B        B2  ...     NaN         NaN         NaN   \n",
       "1     15.27        59.83     C        C4  ...     NaN         NaN         NaN   \n",
       "2     15.96        84.33     C        C5  ...     NaN         NaN         NaN   \n",
       "\n",
       "   max_bal_bc all_util total_rev_hi_lim inq_fi total_cu_tl inq_last_12m  \\\n",
       "0         NaN      NaN              NaN    NaN         NaN          NaN   \n",
       "1         NaN      NaN              NaN    NaN         NaN          NaN   \n",
       "2         NaN      NaN              NaN    NaN         NaN          NaN   \n",
       "\n",
       "  default_ind  \n",
       "0           0  \n",
       "1           1  \n",
       "2           0  \n",
       "\n",
       "[3 rows x 73 columns]"
      ]
     },
     "execution_count": 3,
     "metadata": {},
     "output_type": "execute_result"
    }
   ],
   "source": [
    "data.head(3)"
   ]
  },
  {
   "cell_type": "code",
   "execution_count": 4,
   "metadata": {
    "execution": {
     "iopub.execute_input": "2021-03-24T16:41:38.275621Z",
     "iopub.status.busy": "2021-03-24T16:41:38.274646Z",
     "iopub.status.idle": "2021-03-24T16:41:38.277902Z",
     "shell.execute_reply": "2021-03-24T16:41:38.277279Z"
    },
    "papermill": {
     "duration": 0.055068,
     "end_time": "2021-03-24T16:41:38.278038",
     "exception": false,
     "start_time": "2021-03-24T16:41:38.222970",
     "status": "completed"
    },
    "tags": []
   },
   "outputs": [],
   "source": [
    "pd.set_option(\"display.max_columns\",100)"
   ]
  },
  {
   "cell_type": "code",
   "execution_count": 5,
   "metadata": {
    "execution": {
     "iopub.execute_input": "2021-03-24T16:41:38.429160Z",
     "iopub.status.busy": "2021-03-24T16:41:38.396492Z",
     "iopub.status.idle": "2021-03-24T16:41:38.618449Z",
     "shell.execute_reply": "2021-03-24T16:41:38.617901Z"
    },
    "papermill": {
     "duration": 0.291958,
     "end_time": "2021-03-24T16:41:38.618598",
     "exception": false,
     "start_time": "2021-03-24T16:41:38.326640",
     "status": "completed"
    },
    "tags": []
   },
   "outputs": [],
   "source": [
    "data['issue_d']= pd.to_datetime(data['issue_d'])"
   ]
  },
  {
   "cell_type": "code",
   "execution_count": 6,
   "metadata": {
    "execution": {
     "iopub.execute_input": "2021-03-24T16:41:38.720149Z",
     "iopub.status.busy": "2021-03-24T16:41:38.719524Z",
     "iopub.status.idle": "2021-03-24T16:41:38.954356Z",
     "shell.execute_reply": "2021-03-24T16:41:38.953675Z"
    },
    "papermill": {
     "duration": 0.288111,
     "end_time": "2021-03-24T16:41:38.954521",
     "exception": false,
     "start_time": "2021-03-24T16:41:38.666410",
     "status": "completed"
    },
    "tags": []
   },
   "outputs": [],
   "source": [
    "start_date = \"2007-06-01\"\n",
    "end_date = \"2015-05-31\"\n",
    "\n",
    "after_start_date = data[\"issue_d\"] >= start_date\n",
    "before_end_date = data[\"issue_d\"] <= end_date\n",
    "between_two_dates = after_start_date & before_end_date\n",
    "train_df = data.loc[between_two_dates]\n"
   ]
  },
  {
   "cell_type": "code",
   "execution_count": 7,
   "metadata": {
    "execution": {
     "iopub.execute_input": "2021-03-24T16:41:39.057022Z",
     "iopub.status.busy": "2021-03-24T16:41:39.056305Z",
     "iopub.status.idle": "2021-03-24T16:41:39.060581Z",
     "shell.execute_reply": "2021-03-24T16:41:39.059902Z"
    },
    "papermill": {
     "duration": 0.058046,
     "end_time": "2021-03-24T16:41:39.060725",
     "exception": false,
     "start_time": "2021-03-24T16:41:39.002679",
     "status": "completed"
    },
    "tags": []
   },
   "outputs": [
    {
     "data": {
      "text/plain": [
       "(598978, 73)"
      ]
     },
     "execution_count": 7,
     "metadata": {},
     "output_type": "execute_result"
    }
   ],
   "source": [
    "train_df.shape"
   ]
  },
  {
   "cell_type": "code",
   "execution_count": 8,
   "metadata": {
    "execution": {
     "iopub.execute_input": "2021-03-24T16:41:39.164907Z",
     "iopub.status.busy": "2021-03-24T16:41:39.164008Z",
     "iopub.status.idle": "2021-03-24T16:41:39.256137Z",
     "shell.execute_reply": "2021-03-24T16:41:39.255561Z"
    },
    "papermill": {
     "duration": 0.14674,
     "end_time": "2021-03-24T16:41:39.256288",
     "exception": false,
     "start_time": "2021-03-24T16:41:39.109548",
     "status": "completed"
    },
    "tags": []
   },
   "outputs": [],
   "source": [
    "start_date = \"2015-06-01\"\n",
    "end_date = \"2015-12-31\"\n",
    "\n",
    "after_start_date = data[\"issue_d\"] >= start_date\n",
    "before_end_date = data[\"issue_d\"] <= end_date\n",
    "between_two_dates = after_start_date & before_end_date\n",
    "test_df = data.loc[between_two_dates]"
   ]
  },
  {
   "cell_type": "code",
   "execution_count": 9,
   "metadata": {
    "execution": {
     "iopub.execute_input": "2021-03-24T16:41:39.360464Z",
     "iopub.status.busy": "2021-03-24T16:41:39.359058Z",
     "iopub.status.idle": "2021-03-24T16:41:39.583270Z",
     "shell.execute_reply": "2021-03-24T16:41:39.582569Z"
    },
    "papermill": {
     "duration": 0.278446,
     "end_time": "2021-03-24T16:41:39.583438",
     "exception": false,
     "start_time": "2021-03-24T16:41:39.304992",
     "status": "completed"
    },
    "tags": []
   },
   "outputs": [],
   "source": [
    "import copy\n",
    "test=copy.deepcopy(test_df)\n",
    "test2=copy.deepcopy(test_df)\n"
   ]
  },
  {
   "cell_type": "code",
   "execution_count": 10,
   "metadata": {
    "execution": {
     "iopub.execute_input": "2021-03-24T16:41:39.686673Z",
     "iopub.status.busy": "2021-03-24T16:41:39.685787Z",
     "iopub.status.idle": "2021-03-24T16:41:39.690313Z",
     "shell.execute_reply": "2021-03-24T16:41:39.689796Z"
    },
    "papermill": {
     "duration": 0.058103,
     "end_time": "2021-03-24T16:41:39.690465",
     "exception": false,
     "start_time": "2021-03-24T16:41:39.632362",
     "status": "completed"
    },
    "tags": []
   },
   "outputs": [
    {
     "data": {
      "text/plain": [
       "(256991, 73)"
      ]
     },
     "execution_count": 10,
     "metadata": {},
     "output_type": "execute_result"
    }
   ],
   "source": [
    "test_df.shape"
   ]
  },
  {
   "cell_type": "code",
   "execution_count": 11,
   "metadata": {
    "execution": {
     "iopub.execute_input": "2021-03-24T16:41:39.796151Z",
     "iopub.status.busy": "2021-03-24T16:41:39.794946Z",
     "iopub.status.idle": "2021-03-24T16:41:43.457152Z",
     "shell.execute_reply": "2021-03-24T16:41:43.457673Z"
    },
    "papermill": {
     "duration": 3.717773,
     "end_time": "2021-03-24T16:41:43.457853",
     "exception": false,
     "start_time": "2021-03-24T16:41:39.740080",
     "status": "completed"
    },
    "tags": []
   },
   "outputs": [
    {
     "data": {
      "text/html": [
       "<div>\n",
       "<style scoped>\n",
       "    .dataframe tbody tr th:only-of-type {\n",
       "        vertical-align: middle;\n",
       "    }\n",
       "\n",
       "    .dataframe tbody tr th {\n",
       "        vertical-align: top;\n",
       "    }\n",
       "\n",
       "    .dataframe thead th {\n",
       "        text-align: right;\n",
       "    }\n",
       "</style>\n",
       "<table border=\"1\" class=\"dataframe\">\n",
       "  <thead>\n",
       "    <tr style=\"text-align: right;\">\n",
       "      <th></th>\n",
       "      <th>Total</th>\n",
       "      <th>Percent</th>\n",
       "    </tr>\n",
       "  </thead>\n",
       "  <tbody>\n",
       "    <tr>\n",
       "      <th>open_acc_6m</th>\n",
       "      <td>598978</td>\n",
       "      <td>1.000000</td>\n",
       "    </tr>\n",
       "    <tr>\n",
       "      <th>open_il_6m</th>\n",
       "      <td>598978</td>\n",
       "      <td>1.000000</td>\n",
       "    </tr>\n",
       "    <tr>\n",
       "      <th>open_il_12m</th>\n",
       "      <td>598978</td>\n",
       "      <td>1.000000</td>\n",
       "    </tr>\n",
       "    <tr>\n",
       "      <th>open_il_24m</th>\n",
       "      <td>598978</td>\n",
       "      <td>1.000000</td>\n",
       "    </tr>\n",
       "    <tr>\n",
       "      <th>mths_since_rcnt_il</th>\n",
       "      <td>598978</td>\n",
       "      <td>1.000000</td>\n",
       "    </tr>\n",
       "    <tr>\n",
       "      <th>total_bal_il</th>\n",
       "      <td>598978</td>\n",
       "      <td>1.000000</td>\n",
       "    </tr>\n",
       "    <tr>\n",
       "      <th>il_util</th>\n",
       "      <td>598978</td>\n",
       "      <td>1.000000</td>\n",
       "    </tr>\n",
       "    <tr>\n",
       "      <th>dti_joint</th>\n",
       "      <td>598978</td>\n",
       "      <td>1.000000</td>\n",
       "    </tr>\n",
       "    <tr>\n",
       "      <th>open_rv_12m</th>\n",
       "      <td>598978</td>\n",
       "      <td>1.000000</td>\n",
       "    </tr>\n",
       "    <tr>\n",
       "      <th>open_rv_24m</th>\n",
       "      <td>598978</td>\n",
       "      <td>1.000000</td>\n",
       "    </tr>\n",
       "    <tr>\n",
       "      <th>max_bal_bc</th>\n",
       "      <td>598978</td>\n",
       "      <td>1.000000</td>\n",
       "    </tr>\n",
       "    <tr>\n",
       "      <th>all_util</th>\n",
       "      <td>598978</td>\n",
       "      <td>1.000000</td>\n",
       "    </tr>\n",
       "    <tr>\n",
       "      <th>annual_inc_joint</th>\n",
       "      <td>598978</td>\n",
       "      <td>1.000000</td>\n",
       "    </tr>\n",
       "    <tr>\n",
       "      <th>inq_fi</th>\n",
       "      <td>598978</td>\n",
       "      <td>1.000000</td>\n",
       "    </tr>\n",
       "    <tr>\n",
       "      <th>total_cu_tl</th>\n",
       "      <td>598978</td>\n",
       "      <td>1.000000</td>\n",
       "    </tr>\n",
       "    <tr>\n",
       "      <th>inq_last_12m</th>\n",
       "      <td>598978</td>\n",
       "      <td>1.000000</td>\n",
       "    </tr>\n",
       "    <tr>\n",
       "      <th>verification_status_joint</th>\n",
       "      <td>598978</td>\n",
       "      <td>1.000000</td>\n",
       "    </tr>\n",
       "    <tr>\n",
       "      <th>mths_since_last_record</th>\n",
       "      <td>513220</td>\n",
       "      <td>0.856826</td>\n",
       "    </tr>\n",
       "    <tr>\n",
       "      <th>desc</th>\n",
       "      <td>477177</td>\n",
       "      <td>0.796652</td>\n",
       "    </tr>\n",
       "    <tr>\n",
       "      <th>mths_since_last_major_derog</th>\n",
       "      <td>460751</td>\n",
       "      <td>0.769229</td>\n",
       "    </tr>\n",
       "    <tr>\n",
       "      <th>mths_since_last_delinq</th>\n",
       "      <td>314968</td>\n",
       "      <td>0.525842</td>\n",
       "    </tr>\n",
       "    <tr>\n",
       "      <th>next_pymnt_d</th>\n",
       "      <td>244687</td>\n",
       "      <td>0.408507</td>\n",
       "    </tr>\n",
       "    <tr>\n",
       "      <th>tot_cur_bal</th>\n",
       "      <td>67313</td>\n",
       "      <td>0.112380</td>\n",
       "    </tr>\n",
       "    <tr>\n",
       "      <th>tot_coll_amt</th>\n",
       "      <td>67313</td>\n",
       "      <td>0.112380</td>\n",
       "    </tr>\n",
       "    <tr>\n",
       "      <th>total_rev_hi_lim</th>\n",
       "      <td>67313</td>\n",
       "      <td>0.112380</td>\n",
       "    </tr>\n",
       "    <tr>\n",
       "      <th>emp_title</th>\n",
       "      <td>34465</td>\n",
       "      <td>0.057540</td>\n",
       "    </tr>\n",
       "    <tr>\n",
       "      <th>emp_length</th>\n",
       "      <td>28105</td>\n",
       "      <td>0.046922</td>\n",
       "    </tr>\n",
       "    <tr>\n",
       "      <th>last_pymnt_d</th>\n",
       "      <td>456</td>\n",
       "      <td>0.000761</td>\n",
       "    </tr>\n",
       "    <tr>\n",
       "      <th>revol_util</th>\n",
       "      <td>341</td>\n",
       "      <td>0.000569</td>\n",
       "    </tr>\n",
       "    <tr>\n",
       "      <th>collections_12_mths_ex_med</th>\n",
       "      <td>56</td>\n",
       "      <td>0.000093</td>\n",
       "    </tr>\n",
       "  </tbody>\n",
       "</table>\n",
       "</div>"
      ],
      "text/plain": [
       "                              Total   Percent\n",
       "open_acc_6m                  598978  1.000000\n",
       "open_il_6m                   598978  1.000000\n",
       "open_il_12m                  598978  1.000000\n",
       "open_il_24m                  598978  1.000000\n",
       "mths_since_rcnt_il           598978  1.000000\n",
       "total_bal_il                 598978  1.000000\n",
       "il_util                      598978  1.000000\n",
       "dti_joint                    598978  1.000000\n",
       "open_rv_12m                  598978  1.000000\n",
       "open_rv_24m                  598978  1.000000\n",
       "max_bal_bc                   598978  1.000000\n",
       "all_util                     598978  1.000000\n",
       "annual_inc_joint             598978  1.000000\n",
       "inq_fi                       598978  1.000000\n",
       "total_cu_tl                  598978  1.000000\n",
       "inq_last_12m                 598978  1.000000\n",
       "verification_status_joint    598978  1.000000\n",
       "mths_since_last_record       513220  0.856826\n",
       "desc                         477177  0.796652\n",
       "mths_since_last_major_derog  460751  0.769229\n",
       "mths_since_last_delinq       314968  0.525842\n",
       "next_pymnt_d                 244687  0.408507\n",
       "tot_cur_bal                   67313  0.112380\n",
       "tot_coll_amt                  67313  0.112380\n",
       "total_rev_hi_lim              67313  0.112380\n",
       "emp_title                     34465  0.057540\n",
       "emp_length                    28105  0.046922\n",
       "last_pymnt_d                    456  0.000761\n",
       "revol_util                      341  0.000569\n",
       "collections_12_mths_ex_med       56  0.000093"
      ]
     },
     "execution_count": 11,
     "metadata": {},
     "output_type": "execute_result"
    }
   ],
   "source": [
    "total = train_df.isnull().sum().sort_values(ascending=False)\n",
    "percent = (train_df.isnull().sum()/train_df.isnull().count()).sort_values(ascending=False)\n",
    "missing_data = pd.concat([total, percent], axis=1, keys=['Total', 'Percent'])\n",
    "missing_data.head(30)"
   ]
  },
  {
   "cell_type": "code",
   "execution_count": 12,
   "metadata": {
    "execution": {
     "iopub.execute_input": "2021-03-24T16:41:43.562231Z",
     "iopub.status.busy": "2021-03-24T16:41:43.561654Z",
     "iopub.status.idle": "2021-03-24T16:41:45.112600Z",
     "shell.execute_reply": "2021-03-24T16:41:45.112083Z"
    },
    "papermill": {
     "duration": 1.604628,
     "end_time": "2021-03-24T16:41:45.112747",
     "exception": false,
     "start_time": "2021-03-24T16:41:43.508119",
     "status": "completed"
    },
    "tags": []
   },
   "outputs": [
    {
     "data": {
      "text/html": [
       "<div>\n",
       "<style scoped>\n",
       "    .dataframe tbody tr th:only-of-type {\n",
       "        vertical-align: middle;\n",
       "    }\n",
       "\n",
       "    .dataframe tbody tr th {\n",
       "        vertical-align: top;\n",
       "    }\n",
       "\n",
       "    .dataframe thead th {\n",
       "        text-align: right;\n",
       "    }\n",
       "</style>\n",
       "<table border=\"1\" class=\"dataframe\">\n",
       "  <thead>\n",
       "    <tr style=\"text-align: right;\">\n",
       "      <th></th>\n",
       "      <th>Total</th>\n",
       "      <th>Percent</th>\n",
       "    </tr>\n",
       "  </thead>\n",
       "  <tbody>\n",
       "    <tr>\n",
       "      <th>desc</th>\n",
       "      <td>256980</td>\n",
       "      <td>0.999957</td>\n",
       "    </tr>\n",
       "    <tr>\n",
       "      <th>dti_joint</th>\n",
       "      <td>256551</td>\n",
       "      <td>0.998288</td>\n",
       "    </tr>\n",
       "    <tr>\n",
       "      <th>annual_inc_joint</th>\n",
       "      <td>256549</td>\n",
       "      <td>0.998280</td>\n",
       "    </tr>\n",
       "    <tr>\n",
       "      <th>verification_status_joint</th>\n",
       "      <td>256549</td>\n",
       "      <td>0.998280</td>\n",
       "    </tr>\n",
       "    <tr>\n",
       "      <th>il_util</th>\n",
       "      <td>245382</td>\n",
       "      <td>0.954827</td>\n",
       "    </tr>\n",
       "    <tr>\n",
       "      <th>mths_since_rcnt_il</th>\n",
       "      <td>244057</td>\n",
       "      <td>0.949671</td>\n",
       "    </tr>\n",
       "    <tr>\n",
       "      <th>open_acc_6m</th>\n",
       "      <td>243703</td>\n",
       "      <td>0.948294</td>\n",
       "    </tr>\n",
       "    <tr>\n",
       "      <th>open_il_6m</th>\n",
       "      <td>243703</td>\n",
       "      <td>0.948294</td>\n",
       "    </tr>\n",
       "    <tr>\n",
       "      <th>open_il_12m</th>\n",
       "      <td>243703</td>\n",
       "      <td>0.948294</td>\n",
       "    </tr>\n",
       "    <tr>\n",
       "      <th>total_bal_il</th>\n",
       "      <td>243703</td>\n",
       "      <td>0.948294</td>\n",
       "    </tr>\n",
       "    <tr>\n",
       "      <th>open_il_24m</th>\n",
       "      <td>243703</td>\n",
       "      <td>0.948294</td>\n",
       "    </tr>\n",
       "    <tr>\n",
       "      <th>inq_fi</th>\n",
       "      <td>243703</td>\n",
       "      <td>0.948294</td>\n",
       "    </tr>\n",
       "    <tr>\n",
       "      <th>open_rv_12m</th>\n",
       "      <td>243703</td>\n",
       "      <td>0.948294</td>\n",
       "    </tr>\n",
       "    <tr>\n",
       "      <th>open_rv_24m</th>\n",
       "      <td>243703</td>\n",
       "      <td>0.948294</td>\n",
       "    </tr>\n",
       "    <tr>\n",
       "      <th>inq_last_12m</th>\n",
       "      <td>243703</td>\n",
       "      <td>0.948294</td>\n",
       "    </tr>\n",
       "    <tr>\n",
       "      <th>max_bal_bc</th>\n",
       "      <td>243703</td>\n",
       "      <td>0.948294</td>\n",
       "    </tr>\n",
       "    <tr>\n",
       "      <th>all_util</th>\n",
       "      <td>243703</td>\n",
       "      <td>0.948294</td>\n",
       "    </tr>\n",
       "    <tr>\n",
       "      <th>total_cu_tl</th>\n",
       "      <td>243703</td>\n",
       "      <td>0.948294</td>\n",
       "    </tr>\n",
       "    <tr>\n",
       "      <th>mths_since_last_record</th>\n",
       "      <td>211565</td>\n",
       "      <td>0.823239</td>\n",
       "    </tr>\n",
       "    <tr>\n",
       "      <th>mths_since_last_major_derog</th>\n",
       "      <td>182079</td>\n",
       "      <td>0.708503</td>\n",
       "    </tr>\n",
       "    <tr>\n",
       "      <th>mths_since_last_delinq</th>\n",
       "      <td>124844</td>\n",
       "      <td>0.485791</td>\n",
       "    </tr>\n",
       "    <tr>\n",
       "      <th>emp_title</th>\n",
       "      <td>14978</td>\n",
       "      <td>0.058282</td>\n",
       "    </tr>\n",
       "    <tr>\n",
       "      <th>emp_length</th>\n",
       "      <td>14956</td>\n",
       "      <td>0.058197</td>\n",
       "    </tr>\n",
       "    <tr>\n",
       "      <th>last_pymnt_d</th>\n",
       "      <td>8406</td>\n",
       "      <td>0.032709</td>\n",
       "    </tr>\n",
       "    <tr>\n",
       "      <th>next_pymnt_d</th>\n",
       "      <td>8284</td>\n",
       "      <td>0.032235</td>\n",
       "    </tr>\n",
       "    <tr>\n",
       "      <th>revol_util</th>\n",
       "      <td>105</td>\n",
       "      <td>0.000409</td>\n",
       "    </tr>\n",
       "    <tr>\n",
       "      <th>title</th>\n",
       "      <td>15</td>\n",
       "      <td>0.000058</td>\n",
       "    </tr>\n",
       "    <tr>\n",
       "      <th>last_credit_pull_d</th>\n",
       "      <td>7</td>\n",
       "      <td>0.000027</td>\n",
       "    </tr>\n",
       "    <tr>\n",
       "      <th>collection_recovery_fee</th>\n",
       "      <td>0</td>\n",
       "      <td>0.000000</td>\n",
       "    </tr>\n",
       "    <tr>\n",
       "      <th>collections_12_mths_ex_med</th>\n",
       "      <td>0</td>\n",
       "      <td>0.000000</td>\n",
       "    </tr>\n",
       "  </tbody>\n",
       "</table>\n",
       "</div>"
      ],
      "text/plain": [
       "                              Total   Percent\n",
       "desc                         256980  0.999957\n",
       "dti_joint                    256551  0.998288\n",
       "annual_inc_joint             256549  0.998280\n",
       "verification_status_joint    256549  0.998280\n",
       "il_util                      245382  0.954827\n",
       "mths_since_rcnt_il           244057  0.949671\n",
       "open_acc_6m                  243703  0.948294\n",
       "open_il_6m                   243703  0.948294\n",
       "open_il_12m                  243703  0.948294\n",
       "total_bal_il                 243703  0.948294\n",
       "open_il_24m                  243703  0.948294\n",
       "inq_fi                       243703  0.948294\n",
       "open_rv_12m                  243703  0.948294\n",
       "open_rv_24m                  243703  0.948294\n",
       "inq_last_12m                 243703  0.948294\n",
       "max_bal_bc                   243703  0.948294\n",
       "all_util                     243703  0.948294\n",
       "total_cu_tl                  243703  0.948294\n",
       "mths_since_last_record       211565  0.823239\n",
       "mths_since_last_major_derog  182079  0.708503\n",
       "mths_since_last_delinq       124844  0.485791\n",
       "emp_title                     14978  0.058282\n",
       "emp_length                    14956  0.058197\n",
       "last_pymnt_d                   8406  0.032709\n",
       "next_pymnt_d                   8284  0.032235\n",
       "revol_util                      105  0.000409\n",
       "title                            15  0.000058\n",
       "last_credit_pull_d                7  0.000027\n",
       "collection_recovery_fee           0  0.000000\n",
       "collections_12_mths_ex_med        0  0.000000"
      ]
     },
     "execution_count": 12,
     "metadata": {},
     "output_type": "execute_result"
    }
   ],
   "source": [
    "total = test_df.isnull().sum().sort_values(ascending=False)\n",
    "percent = (test_df.isnull().sum()/test_df.isnull().count()).sort_values(ascending=False)\n",
    "missing_data1 = pd.concat([total, percent], axis=1, keys=['Total', 'Percent'])\n",
    "missing_data1.head(30)"
   ]
  },
  {
   "cell_type": "code",
   "execution_count": 13,
   "metadata": {
    "execution": {
     "iopub.execute_input": "2021-03-24T16:41:45.221610Z",
     "iopub.status.busy": "2021-03-24T16:41:45.220936Z",
     "iopub.status.idle": "2021-03-24T16:41:45.223782Z",
     "shell.execute_reply": "2021-03-24T16:41:45.224230Z"
    },
    "papermill": {
     "duration": 0.060504,
     "end_time": "2021-03-24T16:41:45.224423",
     "exception": false,
     "start_time": "2021-03-24T16:41:45.163919",
     "status": "completed"
    },
    "tags": []
   },
   "outputs": [],
   "source": [
    "#missing=pd.concat([missing_data1,missing_data],1)"
   ]
  },
  {
   "cell_type": "code",
   "execution_count": 14,
   "metadata": {
    "execution": {
     "iopub.execute_input": "2021-03-24T16:41:45.329403Z",
     "iopub.status.busy": "2021-03-24T16:41:45.328814Z",
     "iopub.status.idle": "2021-03-24T16:41:45.333310Z",
     "shell.execute_reply": "2021-03-24T16:41:45.332815Z"
    },
    "papermill": {
     "duration": 0.057907,
     "end_time": "2021-03-24T16:41:45.333466",
     "exception": false,
     "start_time": "2021-03-24T16:41:45.275559",
     "status": "completed"
    },
    "tags": []
   },
   "outputs": [],
   "source": [
    "#missing.to_csv('miss.csv')"
   ]
  },
  {
   "cell_type": "code",
   "execution_count": 15,
   "metadata": {
    "execution": {
     "iopub.execute_input": "2021-03-24T16:41:45.441121Z",
     "iopub.status.busy": "2021-03-24T16:41:45.440478Z",
     "iopub.status.idle": "2021-03-24T16:41:46.827628Z",
     "shell.execute_reply": "2021-03-24T16:41:46.827039Z"
    },
    "papermill": {
     "duration": 1.443563,
     "end_time": "2021-03-24T16:41:46.827779",
     "exception": false,
     "start_time": "2021-03-24T16:41:45.384216",
     "status": "completed"
    },
    "tags": []
   },
   "outputs": [],
   "source": [
    " train_df= train_df.dropna(thresh=train_df.shape[0]*0.4,how='all',axis=1)"
   ]
  },
  {
   "cell_type": "code",
   "execution_count": 16,
   "metadata": {
    "execution": {
     "iopub.execute_input": "2021-03-24T16:41:46.936425Z",
     "iopub.status.busy": "2021-03-24T16:41:46.935177Z",
     "iopub.status.idle": "2021-03-24T16:41:47.525859Z",
     "shell.execute_reply": "2021-03-24T16:41:47.525282Z"
    },
    "papermill": {
     "duration": 0.647326,
     "end_time": "2021-03-24T16:41:47.526013",
     "exception": false,
     "start_time": "2021-03-24T16:41:46.878687",
     "status": "completed"
    },
    "tags": []
   },
   "outputs": [],
   "source": [
    " test_df=test_df.dropna(thresh=test_df.shape[0]*0.4,how='all',axis=1)"
   ]
  },
  {
   "cell_type": "code",
   "execution_count": 17,
   "metadata": {
    "execution": {
     "iopub.execute_input": "2021-03-24T16:41:47.634512Z",
     "iopub.status.busy": "2021-03-24T16:41:47.633674Z",
     "iopub.status.idle": "2021-03-24T16:41:51.597038Z",
     "shell.execute_reply": "2021-03-24T16:41:51.597535Z"
    },
    "papermill": {
     "duration": 4.020133,
     "end_time": "2021-03-24T16:41:51.597715",
     "exception": false,
     "start_time": "2021-03-24T16:41:47.577582",
     "status": "completed"
    },
    "tags": []
   },
   "outputs": [
    {
     "data": {
      "text/plain": [
       "<AxesSubplot:>"
      ]
     },
     "execution_count": 17,
     "metadata": {},
     "output_type": "execute_result"
    },
    {
     "data": {
      "image/png": "[encoded data removed]",
      "text/plain": [
       "<Figure size 432x288 with 2 Axes>"
      ]
     },
     "metadata": {
      "needs_background": "light"
     },
     "output_type": "display_data"
    }
   ],
   "source": [
    "import seaborn as sb\n",
    "pearsoncorr = train_df.corr(method='pearson')\n",
    "sb.heatmap(pearsoncorr, \n",
    "            xticklabels=pearsoncorr.columns,\n",
    "            yticklabels=pearsoncorr.columns,\n",
    "            cmap='RdBu_r',\n",
    "           # annot=True,\n",
    "            linewidth=0.5)"
   ]
  },
  {
   "cell_type": "code",
   "execution_count": 18,
   "metadata": {
    "execution": {
     "iopub.execute_input": "2021-03-24T16:41:51.709532Z",
     "iopub.status.busy": "2021-03-24T16:41:51.708885Z",
     "iopub.status.idle": "2021-03-24T16:41:51.712003Z",
     "shell.execute_reply": "2021-03-24T16:41:51.711399Z"
    },
    "papermill": {
     "duration": 0.06084,
     "end_time": "2021-03-24T16:41:51.712137",
     "exception": false,
     "start_time": "2021-03-24T16:41:51.651297",
     "status": "completed"
    },
    "tags": []
   },
   "outputs": [],
   "source": [
    "#pearsoncorr"
   ]
  },
  {
   "cell_type": "code",
   "execution_count": 19,
   "metadata": {
    "execution": {
     "iopub.execute_input": "2021-03-24T16:41:51.826860Z",
     "iopub.status.busy": "2021-03-24T16:41:51.826219Z",
     "iopub.status.idle": "2021-03-24T16:41:53.971587Z",
     "shell.execute_reply": "2021-03-24T16:41:53.971016Z"
    },
    "papermill": {
     "duration": 2.205604,
     "end_time": "2021-03-24T16:41:53.971730",
     "exception": false,
     "start_time": "2021-03-24T16:41:51.766126",
     "status": "completed"
    },
    "tags": []
   },
   "outputs": [],
   "source": [
    "corr_matrix=train_df.corr().abs()\n",
    "upper=corr_matrix.where(np.triu(np.ones(corr_matrix.shape),k=1).astype(np.bool))\n",
    "to_drop=[col for col in upper.columns if any(upper[col]>0.90)]\n",
    "train_df.drop(to_drop,axis=1,inplace=True)"
   ]
  },
  {
   "cell_type": "code",
   "execution_count": 20,
   "metadata": {
    "execution": {
     "iopub.execute_input": "2021-03-24T16:41:54.085916Z",
     "iopub.status.busy": "2021-03-24T16:41:54.084949Z",
     "iopub.status.idle": "2021-03-24T16:41:54.088685Z",
     "shell.execute_reply": "2021-03-24T16:41:54.089237Z"
    },
    "papermill": {
     "duration": 0.063318,
     "end_time": "2021-03-24T16:41:54.089416",
     "exception": false,
     "start_time": "2021-03-24T16:41:54.026098",
     "status": "completed"
    },
    "tags": []
   },
   "outputs": [
    {
     "data": {
      "text/plain": [
       "['member_id',\n",
       " 'funded_amnt',\n",
       " 'funded_amnt_inv',\n",
       " 'installment',\n",
       " 'out_prncp_inv',\n",
       " 'total_pymnt_inv',\n",
       " 'total_rec_prncp']"
      ]
     },
     "execution_count": 20,
     "metadata": {},
     "output_type": "execute_result"
    }
   ],
   "source": [
    "to_drop"
   ]
  },
  {
   "cell_type": "code",
   "execution_count": 21,
   "metadata": {
    "execution": {
     "iopub.execute_input": "2021-03-24T16:41:54.264751Z",
     "iopub.status.busy": "2021-03-24T16:41:54.235568Z",
     "iopub.status.idle": "2021-03-24T16:41:54.268004Z",
     "shell.execute_reply": "2021-03-24T16:41:54.267294Z"
    },
    "papermill": {
     "duration": 0.124427,
     "end_time": "2021-03-24T16:41:54.268171",
     "exception": false,
     "start_time": "2021-03-24T16:41:54.143744",
     "status": "completed"
    },
    "tags": []
   },
   "outputs": [],
   "source": [
    "\n",
    "test_df.drop(to_drop,axis=1,inplace=True)"
   ]
  },
  {
   "cell_type": "code",
   "execution_count": 22,
   "metadata": {
    "execution": {
     "iopub.execute_input": "2021-03-24T16:41:54.383247Z",
     "iopub.status.busy": "2021-03-24T16:41:54.382603Z",
     "iopub.status.idle": "2021-03-24T16:41:55.496249Z",
     "shell.execute_reply": "2021-03-24T16:41:55.495512Z"
    },
    "papermill": {
     "duration": 1.173382,
     "end_time": "2021-03-24T16:41:55.496459",
     "exception": false,
     "start_time": "2021-03-24T16:41:54.323077",
     "status": "completed"
    },
    "tags": []
   },
   "outputs": [
    {
     "name": "stdout",
     "output_type": "stream",
     "text": [
      "<class 'pandas.core.frame.DataFrame'>\n",
      "Int64Index: 598978 entries, 0 to 855968\n",
      "Data columns (total 46 columns):\n",
      " #   Column                      Non-Null Count   Dtype         \n",
      "---  ------                      --------------   -----         \n",
      " 0   id                          598978 non-null  int64         \n",
      " 1   loan_amnt                   598978 non-null  float64       \n",
      " 2   term                        598978 non-null  object        \n",
      " 3   int_rate                    598978 non-null  float64       \n",
      " 4   grade                       598978 non-null  object        \n",
      " 5   sub_grade                   598978 non-null  object        \n",
      " 6   emp_title                   564513 non-null  object        \n",
      " 7   emp_length                  570873 non-null  object        \n",
      " 8   home_ownership              598978 non-null  object        \n",
      " 9   annual_inc                  598978 non-null  float64       \n",
      " 10  verification_status         598978 non-null  object        \n",
      " 11  issue_d                     598978 non-null  datetime64[ns]\n",
      " 12  pymnt_plan                  598978 non-null  object        \n",
      " 13  purpose                     598978 non-null  object        \n",
      " 14  title                       598960 non-null  object        \n",
      " 15  zip_code                    598978 non-null  object        \n",
      " 16  addr_state                  598978 non-null  object        \n",
      " 17  dti                         598978 non-null  float64       \n",
      " 18  delinq_2yrs                 598978 non-null  float64       \n",
      " 19  earliest_cr_line            598978 non-null  object        \n",
      " 20  inq_last_6mths              598978 non-null  float64       \n",
      " 21  mths_since_last_delinq      284010 non-null  float64       \n",
      " 22  open_acc                    598978 non-null  float64       \n",
      " 23  pub_rec                     598978 non-null  float64       \n",
      " 24  revol_bal                   598978 non-null  float64       \n",
      " 25  revol_util                  598637 non-null  float64       \n",
      " 26  total_acc                   598978 non-null  float64       \n",
      " 27  initial_list_status         598978 non-null  object        \n",
      " 28  out_prncp                   598978 non-null  float64       \n",
      " 29  total_pymnt                 598978 non-null  float64       \n",
      " 30  total_rec_int               598978 non-null  float64       \n",
      " 31  total_rec_late_fee          598978 non-null  float64       \n",
      " 32  recoveries                  598978 non-null  float64       \n",
      " 33  collection_recovery_fee     598978 non-null  float64       \n",
      " 34  last_pymnt_d                598522 non-null  object        \n",
      " 35  last_pymnt_amnt             598978 non-null  float64       \n",
      " 36  next_pymnt_d                354291 non-null  object        \n",
      " 37  last_credit_pull_d          598935 non-null  object        \n",
      " 38  collections_12_mths_ex_med  598922 non-null  float64       \n",
      " 39  policy_code                 598978 non-null  float64       \n",
      " 40  application_type            598978 non-null  object        \n",
      " 41  acc_now_delinq              598978 non-null  float64       \n",
      " 42  tot_coll_amt                531665 non-null  float64       \n",
      " 43  tot_cur_bal                 531665 non-null  float64       \n",
      " 44  total_rev_hi_lim            531665 non-null  float64       \n",
      " 45  default_ind                 598978 non-null  int64         \n",
      "dtypes: datetime64[ns](1), float64(25), int64(2), object(18)\n",
      "memory usage: 214.8+ MB\n"
     ]
    }
   ],
   "source": [
    "train_df.info()"
   ]
  },
  {
   "cell_type": "code",
   "execution_count": 23,
   "metadata": {
    "execution": {
     "iopub.execute_input": "2021-03-24T16:41:55.614902Z",
     "iopub.status.busy": "2021-03-24T16:41:55.614151Z",
     "iopub.status.idle": "2021-03-24T16:41:58.957690Z",
     "shell.execute_reply": "2021-03-24T16:41:58.957025Z"
    },
    "papermill": {
     "duration": 3.404208,
     "end_time": "2021-03-24T16:41:58.957830",
     "exception": false,
     "start_time": "2021-03-24T16:41:55.553622",
     "status": "completed"
    },
    "tags": []
   },
   "outputs": [
    {
     "data": {
      "text/html": [
       "<div>\n",
       "<style scoped>\n",
       "    .dataframe tbody tr th:only-of-type {\n",
       "        vertical-align: middle;\n",
       "    }\n",
       "\n",
       "    .dataframe tbody tr th {\n",
       "        vertical-align: top;\n",
       "    }\n",
       "\n",
       "    .dataframe thead th {\n",
       "        text-align: right;\n",
       "    }\n",
       "</style>\n",
       "<table border=\"1\" class=\"dataframe\">\n",
       "  <thead>\n",
       "    <tr style=\"text-align: right;\">\n",
       "      <th></th>\n",
       "      <th>Total</th>\n",
       "      <th>Percent</th>\n",
       "    </tr>\n",
       "  </thead>\n",
       "  <tbody>\n",
       "    <tr>\n",
       "      <th>mths_since_last_delinq</th>\n",
       "      <td>314968</td>\n",
       "      <td>0.525842</td>\n",
       "    </tr>\n",
       "    <tr>\n",
       "      <th>next_pymnt_d</th>\n",
       "      <td>244687</td>\n",
       "      <td>0.408507</td>\n",
       "    </tr>\n",
       "    <tr>\n",
       "      <th>total_rev_hi_lim</th>\n",
       "      <td>67313</td>\n",
       "      <td>0.112380</td>\n",
       "    </tr>\n",
       "    <tr>\n",
       "      <th>tot_cur_bal</th>\n",
       "      <td>67313</td>\n",
       "      <td>0.112380</td>\n",
       "    </tr>\n",
       "    <tr>\n",
       "      <th>tot_coll_amt</th>\n",
       "      <td>67313</td>\n",
       "      <td>0.112380</td>\n",
       "    </tr>\n",
       "    <tr>\n",
       "      <th>emp_title</th>\n",
       "      <td>34465</td>\n",
       "      <td>0.057540</td>\n",
       "    </tr>\n",
       "    <tr>\n",
       "      <th>emp_length</th>\n",
       "      <td>28105</td>\n",
       "      <td>0.046922</td>\n",
       "    </tr>\n",
       "    <tr>\n",
       "      <th>last_pymnt_d</th>\n",
       "      <td>456</td>\n",
       "      <td>0.000761</td>\n",
       "    </tr>\n",
       "    <tr>\n",
       "      <th>revol_util</th>\n",
       "      <td>341</td>\n",
       "      <td>0.000569</td>\n",
       "    </tr>\n",
       "    <tr>\n",
       "      <th>collections_12_mths_ex_med</th>\n",
       "      <td>56</td>\n",
       "      <td>0.000093</td>\n",
       "    </tr>\n",
       "    <tr>\n",
       "      <th>last_credit_pull_d</th>\n",
       "      <td>43</td>\n",
       "      <td>0.000072</td>\n",
       "    </tr>\n",
       "    <tr>\n",
       "      <th>title</th>\n",
       "      <td>18</td>\n",
       "      <td>0.000030</td>\n",
       "    </tr>\n",
       "    <tr>\n",
       "      <th>total_pymnt</th>\n",
       "      <td>0</td>\n",
       "      <td>0.000000</td>\n",
       "    </tr>\n",
       "    <tr>\n",
       "      <th>out_prncp</th>\n",
       "      <td>0</td>\n",
       "      <td>0.000000</td>\n",
       "    </tr>\n",
       "    <tr>\n",
       "      <th>total_rec_late_fee</th>\n",
       "      <td>0</td>\n",
       "      <td>0.000000</td>\n",
       "    </tr>\n",
       "    <tr>\n",
       "      <th>initial_list_status</th>\n",
       "      <td>0</td>\n",
       "      <td>0.000000</td>\n",
       "    </tr>\n",
       "    <tr>\n",
       "      <th>total_rec_int</th>\n",
       "      <td>0</td>\n",
       "      <td>0.000000</td>\n",
       "    </tr>\n",
       "    <tr>\n",
       "      <th>id</th>\n",
       "      <td>0</td>\n",
       "      <td>0.000000</td>\n",
       "    </tr>\n",
       "    <tr>\n",
       "      <th>recoveries</th>\n",
       "      <td>0</td>\n",
       "      <td>0.000000</td>\n",
       "    </tr>\n",
       "    <tr>\n",
       "      <th>collection_recovery_fee</th>\n",
       "      <td>0</td>\n",
       "      <td>0.000000</td>\n",
       "    </tr>\n",
       "    <tr>\n",
       "      <th>last_pymnt_amnt</th>\n",
       "      <td>0</td>\n",
       "      <td>0.000000</td>\n",
       "    </tr>\n",
       "    <tr>\n",
       "      <th>policy_code</th>\n",
       "      <td>0</td>\n",
       "      <td>0.000000</td>\n",
       "    </tr>\n",
       "    <tr>\n",
       "      <th>application_type</th>\n",
       "      <td>0</td>\n",
       "      <td>0.000000</td>\n",
       "    </tr>\n",
       "    <tr>\n",
       "      <th>acc_now_delinq</th>\n",
       "      <td>0</td>\n",
       "      <td>0.000000</td>\n",
       "    </tr>\n",
       "    <tr>\n",
       "      <th>total_acc</th>\n",
       "      <td>0</td>\n",
       "      <td>0.000000</td>\n",
       "    </tr>\n",
       "    <tr>\n",
       "      <th>pub_rec</th>\n",
       "      <td>0</td>\n",
       "      <td>0.000000</td>\n",
       "    </tr>\n",
       "    <tr>\n",
       "      <th>revol_bal</th>\n",
       "      <td>0</td>\n",
       "      <td>0.000000</td>\n",
       "    </tr>\n",
       "    <tr>\n",
       "      <th>loan_amnt</th>\n",
       "      <td>0</td>\n",
       "      <td>0.000000</td>\n",
       "    </tr>\n",
       "    <tr>\n",
       "      <th>term</th>\n",
       "      <td>0</td>\n",
       "      <td>0.000000</td>\n",
       "    </tr>\n",
       "    <tr>\n",
       "      <th>int_rate</th>\n",
       "      <td>0</td>\n",
       "      <td>0.000000</td>\n",
       "    </tr>\n",
       "  </tbody>\n",
       "</table>\n",
       "</div>"
      ],
      "text/plain": [
       "                             Total   Percent\n",
       "mths_since_last_delinq      314968  0.525842\n",
       "next_pymnt_d                244687  0.408507\n",
       "total_rev_hi_lim             67313  0.112380\n",
       "tot_cur_bal                  67313  0.112380\n",
       "tot_coll_amt                 67313  0.112380\n",
       "emp_title                    34465  0.057540\n",
       "emp_length                   28105  0.046922\n",
       "last_pymnt_d                   456  0.000761\n",
       "revol_util                     341  0.000569\n",
       "collections_12_mths_ex_med      56  0.000093\n",
       "last_credit_pull_d              43  0.000072\n",
       "title                           18  0.000030\n",
       "total_pymnt                      0  0.000000\n",
       "out_prncp                        0  0.000000\n",
       "total_rec_late_fee               0  0.000000\n",
       "initial_list_status              0  0.000000\n",
       "total_rec_int                    0  0.000000\n",
       "id                               0  0.000000\n",
       "recoveries                       0  0.000000\n",
       "collection_recovery_fee          0  0.000000\n",
       "last_pymnt_amnt                  0  0.000000\n",
       "policy_code                      0  0.000000\n",
       "application_type                 0  0.000000\n",
       "acc_now_delinq                   0  0.000000\n",
       "total_acc                        0  0.000000\n",
       "pub_rec                          0  0.000000\n",
       "revol_bal                        0  0.000000\n",
       "loan_amnt                        0  0.000000\n",
       "term                             0  0.000000\n",
       "int_rate                         0  0.000000"
      ]
     },
     "execution_count": 23,
     "metadata": {},
     "output_type": "execute_result"
    }
   ],
   "source": [
    "total = train_df.isnull().sum().sort_values(ascending=False)\n",
    "percent = (train_df.isnull().sum()/train_df.isnull().count()).sort_values(ascending=False)\n",
    "missing_data = pd.concat([total, percent], axis=1, keys=['Total', 'Percent'])\n",
    "missing_data.head(30)"
   ]
  },
  {
   "cell_type": "code",
   "execution_count": 24,
   "metadata": {
    "execution": {
     "iopub.execute_input": "2021-03-24T16:41:59.123852Z",
     "iopub.status.busy": "2021-03-24T16:41:59.123124Z",
     "iopub.status.idle": "2021-03-24T16:41:59.130168Z",
     "shell.execute_reply": "2021-03-24T16:41:59.129254Z"
    },
    "papermill": {
     "duration": 0.115034,
     "end_time": "2021-03-24T16:41:59.130324",
     "exception": false,
     "start_time": "2021-03-24T16:41:59.015290",
     "status": "completed"
    },
    "tags": []
   },
   "outputs": [
    {
     "data": {
      "text/html": [
       "<div>\n",
       "<style scoped>\n",
       "    .dataframe tbody tr th:only-of-type {\n",
       "        vertical-align: middle;\n",
       "    }\n",
       "\n",
       "    .dataframe tbody tr th {\n",
       "        vertical-align: top;\n",
       "    }\n",
       "\n",
       "    .dataframe thead th {\n",
       "        text-align: right;\n",
       "    }\n",
       "</style>\n",
       "<table border=\"1\" class=\"dataframe\">\n",
       "  <thead>\n",
       "    <tr style=\"text-align: right;\">\n",
       "      <th></th>\n",
       "      <th>id</th>\n",
       "      <th>loan_amnt</th>\n",
       "      <th>term</th>\n",
       "      <th>int_rate</th>\n",
       "      <th>grade</th>\n",
       "      <th>sub_grade</th>\n",
       "      <th>emp_title</th>\n",
       "      <th>emp_length</th>\n",
       "      <th>home_ownership</th>\n",
       "      <th>annual_inc</th>\n",
       "      <th>verification_status</th>\n",
       "      <th>issue_d</th>\n",
       "      <th>pymnt_plan</th>\n",
       "      <th>purpose</th>\n",
       "      <th>title</th>\n",
       "      <th>zip_code</th>\n",
       "      <th>addr_state</th>\n",
       "      <th>dti</th>\n",
       "      <th>delinq_2yrs</th>\n",
       "      <th>earliest_cr_line</th>\n",
       "      <th>inq_last_6mths</th>\n",
       "      <th>mths_since_last_delinq</th>\n",
       "      <th>open_acc</th>\n",
       "      <th>pub_rec</th>\n",
       "      <th>revol_bal</th>\n",
       "      <th>revol_util</th>\n",
       "      <th>total_acc</th>\n",
       "      <th>initial_list_status</th>\n",
       "      <th>out_prncp</th>\n",
       "      <th>total_pymnt</th>\n",
       "      <th>total_rec_int</th>\n",
       "      <th>total_rec_late_fee</th>\n",
       "      <th>recoveries</th>\n",
       "      <th>collection_recovery_fee</th>\n",
       "      <th>last_pymnt_d</th>\n",
       "      <th>last_pymnt_amnt</th>\n",
       "      <th>next_pymnt_d</th>\n",
       "      <th>last_credit_pull_d</th>\n",
       "      <th>collections_12_mths_ex_med</th>\n",
       "      <th>policy_code</th>\n",
       "      <th>application_type</th>\n",
       "      <th>acc_now_delinq</th>\n",
       "      <th>tot_coll_amt</th>\n",
       "      <th>tot_cur_bal</th>\n",
       "      <th>total_rev_hi_lim</th>\n",
       "      <th>default_ind</th>\n",
       "    </tr>\n",
       "  </thead>\n",
       "  <tbody>\n",
       "    <tr>\n",
       "      <th>0</th>\n",
       "      <td>1077501</td>\n",
       "      <td>5000.0</td>\n",
       "      <td>36 months</td>\n",
       "      <td>10.65</td>\n",
       "      <td>B</td>\n",
       "      <td>B2</td>\n",
       "      <td>NaN</td>\n",
       "      <td>10+ years</td>\n",
       "      <td>RENT</td>\n",
       "      <td>24000.0</td>\n",
       "      <td>Verified</td>\n",
       "      <td>2011-12-01</td>\n",
       "      <td>n</td>\n",
       "      <td>credit_card</td>\n",
       "      <td>Computer</td>\n",
       "      <td>860xx</td>\n",
       "      <td>AZ</td>\n",
       "      <td>27.65</td>\n",
       "      <td>0.0</td>\n",
       "      <td>Jan-1985</td>\n",
       "      <td>1.0</td>\n",
       "      <td>NaN</td>\n",
       "      <td>3.0</td>\n",
       "      <td>0.0</td>\n",
       "      <td>13648.0</td>\n",
       "      <td>83.7</td>\n",
       "      <td>9.0</td>\n",
       "      <td>f</td>\n",
       "      <td>0.0</td>\n",
       "      <td>5861.071414</td>\n",
       "      <td>861.07</td>\n",
       "      <td>0.0</td>\n",
       "      <td>0.00</td>\n",
       "      <td>0.00</td>\n",
       "      <td>Jan-2015</td>\n",
       "      <td>171.62</td>\n",
       "      <td>NaN</td>\n",
       "      <td>Jan-2016</td>\n",
       "      <td>0.0</td>\n",
       "      <td>1.0</td>\n",
       "      <td>INDIVIDUAL</td>\n",
       "      <td>0.0</td>\n",
       "      <td>NaN</td>\n",
       "      <td>NaN</td>\n",
       "      <td>NaN</td>\n",
       "      <td>0</td>\n",
       "    </tr>\n",
       "    <tr>\n",
       "      <th>1</th>\n",
       "      <td>1077430</td>\n",
       "      <td>2500.0</td>\n",
       "      <td>60 months</td>\n",
       "      <td>15.27</td>\n",
       "      <td>C</td>\n",
       "      <td>C4</td>\n",
       "      <td>Ryder</td>\n",
       "      <td>&lt; 1 year</td>\n",
       "      <td>RENT</td>\n",
       "      <td>30000.0</td>\n",
       "      <td>Source Verified</td>\n",
       "      <td>2011-12-01</td>\n",
       "      <td>n</td>\n",
       "      <td>car</td>\n",
       "      <td>bike</td>\n",
       "      <td>309xx</td>\n",
       "      <td>GA</td>\n",
       "      <td>1.00</td>\n",
       "      <td>0.0</td>\n",
       "      <td>Apr-1999</td>\n",
       "      <td>5.0</td>\n",
       "      <td>NaN</td>\n",
       "      <td>3.0</td>\n",
       "      <td>0.0</td>\n",
       "      <td>1687.0</td>\n",
       "      <td>9.4</td>\n",
       "      <td>4.0</td>\n",
       "      <td>f</td>\n",
       "      <td>0.0</td>\n",
       "      <td>1008.710000</td>\n",
       "      <td>435.17</td>\n",
       "      <td>0.0</td>\n",
       "      <td>117.08</td>\n",
       "      <td>1.11</td>\n",
       "      <td>Apr-2013</td>\n",
       "      <td>119.66</td>\n",
       "      <td>NaN</td>\n",
       "      <td>Sep-2013</td>\n",
       "      <td>0.0</td>\n",
       "      <td>1.0</td>\n",
       "      <td>INDIVIDUAL</td>\n",
       "      <td>0.0</td>\n",
       "      <td>NaN</td>\n",
       "      <td>NaN</td>\n",
       "      <td>NaN</td>\n",
       "      <td>1</td>\n",
       "    </tr>\n",
       "    <tr>\n",
       "      <th>2</th>\n",
       "      <td>1077175</td>\n",
       "      <td>2400.0</td>\n",
       "      <td>36 months</td>\n",
       "      <td>15.96</td>\n",
       "      <td>C</td>\n",
       "      <td>C5</td>\n",
       "      <td>NaN</td>\n",
       "      <td>10+ years</td>\n",
       "      <td>RENT</td>\n",
       "      <td>12252.0</td>\n",
       "      <td>Not Verified</td>\n",
       "      <td>2011-12-01</td>\n",
       "      <td>n</td>\n",
       "      <td>small_business</td>\n",
       "      <td>real estate business</td>\n",
       "      <td>606xx</td>\n",
       "      <td>IL</td>\n",
       "      <td>8.72</td>\n",
       "      <td>0.0</td>\n",
       "      <td>Nov-2001</td>\n",
       "      <td>2.0</td>\n",
       "      <td>NaN</td>\n",
       "      <td>2.0</td>\n",
       "      <td>0.0</td>\n",
       "      <td>2956.0</td>\n",
       "      <td>98.5</td>\n",
       "      <td>10.0</td>\n",
       "      <td>f</td>\n",
       "      <td>0.0</td>\n",
       "      <td>3003.653644</td>\n",
       "      <td>603.65</td>\n",
       "      <td>0.0</td>\n",
       "      <td>0.00</td>\n",
       "      <td>0.00</td>\n",
       "      <td>Jun-2014</td>\n",
       "      <td>649.91</td>\n",
       "      <td>NaN</td>\n",
       "      <td>Jan-2016</td>\n",
       "      <td>0.0</td>\n",
       "      <td>1.0</td>\n",
       "      <td>INDIVIDUAL</td>\n",
       "      <td>0.0</td>\n",
       "      <td>NaN</td>\n",
       "      <td>NaN</td>\n",
       "      <td>NaN</td>\n",
       "      <td>0</td>\n",
       "    </tr>\n",
       "  </tbody>\n",
       "</table>\n",
       "</div>"
      ],
      "text/plain": [
       "        id  loan_amnt        term  int_rate grade sub_grade emp_title  \\\n",
       "0  1077501     5000.0   36 months     10.65     B        B2       NaN   \n",
       "1  1077430     2500.0   60 months     15.27     C        C4     Ryder   \n",
       "2  1077175     2400.0   36 months     15.96     C        C5       NaN   \n",
       "\n",
       "  emp_length home_ownership  annual_inc verification_status    issue_d  \\\n",
       "0  10+ years           RENT     24000.0            Verified 2011-12-01   \n",
       "1   < 1 year           RENT     30000.0     Source Verified 2011-12-01   \n",
       "2  10+ years           RENT     12252.0        Not Verified 2011-12-01   \n",
       "\n",
       "  pymnt_plan         purpose                 title zip_code addr_state    dti  \\\n",
       "0          n     credit_card              Computer    860xx         AZ  27.65   \n",
       "1          n             car                  bike    309xx         GA   1.00   \n",
       "2          n  small_business  real estate business    606xx         IL   8.72   \n",
       "\n",
       "   delinq_2yrs earliest_cr_line  inq_last_6mths  mths_since_last_delinq  \\\n",
       "0          0.0         Jan-1985             1.0                     NaN   \n",
       "1          0.0         Apr-1999             5.0                     NaN   \n",
       "2          0.0         Nov-2001             2.0                     NaN   \n",
       "\n",
       "   open_acc  pub_rec  revol_bal  revol_util  total_acc initial_list_status  \\\n",
       "0       3.0      0.0    13648.0        83.7        9.0                   f   \n",
       "1       3.0      0.0     1687.0         9.4        4.0                   f   \n",
       "2       2.0      0.0     2956.0        98.5       10.0                   f   \n",
       "\n",
       "   out_prncp  total_pymnt  total_rec_int  total_rec_late_fee  recoveries  \\\n",
       "0        0.0  5861.071414         861.07                 0.0        0.00   \n",
       "1        0.0  1008.710000         435.17                 0.0      117.08   \n",
       "2        0.0  3003.653644         603.65                 0.0        0.00   \n",
       "\n",
       "   collection_recovery_fee last_pymnt_d  last_pymnt_amnt next_pymnt_d  \\\n",
       "0                     0.00     Jan-2015           171.62          NaN   \n",
       "1                     1.11     Apr-2013           119.66          NaN   \n",
       "2                     0.00     Jun-2014           649.91          NaN   \n",
       "\n",
       "  last_credit_pull_d  collections_12_mths_ex_med  policy_code  \\\n",
       "0           Jan-2016                         0.0          1.0   \n",
       "1           Sep-2013                         0.0          1.0   \n",
       "2           Jan-2016                         0.0          1.0   \n",
       "\n",
       "  application_type  acc_now_delinq  tot_coll_amt  tot_cur_bal  \\\n",
       "0       INDIVIDUAL             0.0           NaN          NaN   \n",
       "1       INDIVIDUAL             0.0           NaN          NaN   \n",
       "2       INDIVIDUAL             0.0           NaN          NaN   \n",
       "\n",
       "   total_rev_hi_lim  default_ind  \n",
       "0               NaN            0  \n",
       "1               NaN            1  \n",
       "2               NaN            0  "
      ]
     },
     "execution_count": 24,
     "metadata": {},
     "output_type": "execute_result"
    }
   ],
   "source": [
    "train_df.head(3)"
   ]
  },
  {
   "cell_type": "code",
   "execution_count": 25,
   "metadata": {
    "execution": {
     "iopub.execute_input": "2021-03-24T16:41:59.277010Z",
     "iopub.status.busy": "2021-03-24T16:41:59.276214Z",
     "iopub.status.idle": "2021-03-24T16:41:59.279165Z",
     "shell.execute_reply": "2021-03-24T16:41:59.278550Z"
    },
    "papermill": {
     "duration": 0.07827,
     "end_time": "2021-03-24T16:41:59.279314",
     "exception": false,
     "start_time": "2021-03-24T16:41:59.201044",
     "status": "completed"
    },
    "tags": []
   },
   "outputs": [],
   "source": [
    "#!pip install sweetviz"
   ]
  },
  {
   "cell_type": "code",
   "execution_count": 26,
   "metadata": {
    "execution": {
     "iopub.execute_input": "2021-03-24T16:41:59.425731Z",
     "iopub.status.busy": "2021-03-24T16:41:59.425002Z",
     "iopub.status.idle": "2021-03-24T16:41:59.428301Z",
     "shell.execute_reply": "2021-03-24T16:41:59.429068Z"
    },
    "papermill": {
     "duration": 0.078317,
     "end_time": "2021-03-24T16:41:59.429253",
     "exception": false,
     "start_time": "2021-03-24T16:41:59.350936",
     "status": "completed"
    },
    "tags": []
   },
   "outputs": [],
   "source": [
    "#import sweetviz as sv\n",
    "#rptrt=sv.analyze(train_df)\n",
    "#rptrt.show_html()"
   ]
  },
  {
   "cell_type": "code",
   "execution_count": 27,
   "metadata": {
    "execution": {
     "iopub.execute_input": "2021-03-24T16:41:59.575435Z",
     "iopub.status.busy": "2021-03-24T16:41:59.574741Z",
     "iopub.status.idle": "2021-03-24T16:41:59.578752Z",
     "shell.execute_reply": "2021-03-24T16:41:59.578071Z"
    },
    "papermill": {
     "duration": 0.078677,
     "end_time": "2021-03-24T16:41:59.578905",
     "exception": false,
     "start_time": "2021-03-24T16:41:59.500228",
     "status": "completed"
    },
    "tags": []
   },
   "outputs": [],
   "source": [
    "#col_to_drop=['id','emp_title','zip_code','application_type','policy_code','title','pymnt_plan']\n",
    "#train_df.drop(col_to_drop,axis=1,inplace=True)"
   ]
  },
  {
   "cell_type": "code",
   "execution_count": 28,
   "metadata": {
    "execution": {
     "iopub.execute_input": "2021-03-24T16:41:59.724138Z",
     "iopub.status.busy": "2021-03-24T16:41:59.723510Z",
     "iopub.status.idle": "2021-03-24T16:41:59.726475Z",
     "shell.execute_reply": "2021-03-24T16:41:59.725969Z"
    },
    "papermill": {
     "duration": 0.077494,
     "end_time": "2021-03-24T16:41:59.726632",
     "exception": false,
     "start_time": "2021-03-24T16:41:59.649138",
     "status": "completed"
    },
    "tags": []
   },
   "outputs": [],
   "source": [
    "#col_to_drop=['id','emp_title','zip_code','application_type','policy_code','title','pymnt_plan']\n",
    "#test_df.drop(col_to_drop,axis=1,inplace=True)"
   ]
  },
  {
   "cell_type": "code",
   "execution_count": 29,
   "metadata": {
    "execution": {
     "iopub.execute_input": "2021-03-24T16:41:59.846135Z",
     "iopub.status.busy": "2021-03-24T16:41:59.845440Z",
     "iopub.status.idle": "2021-03-24T16:41:59.858426Z",
     "shell.execute_reply": "2021-03-24T16:41:59.859043Z"
    },
    "papermill": {
     "duration": 0.074601,
     "end_time": "2021-03-24T16:41:59.859216",
     "exception": false,
     "start_time": "2021-03-24T16:41:59.784615",
     "status": "completed"
    },
    "tags": []
   },
   "outputs": [],
   "source": [
    "def feature_engg(train_df):\n",
    "    \n",
    "    col_to_drop=['id','emp_title','zip_code','application_type','policy_code','title','pymnt_plan']\n",
    "    train_df.drop(col_to_drop,axis=1,inplace=True)\n",
    "    train_df['tot_coll_amt']=train_df['tot_coll_amt'].fillna(0)\n",
    "    train_df['acc_now_delinq']=train_df['acc_now_delinq'].fillna(0)\n",
    "    train_df['collections_12_mths_ex_med']=train_df['collections_12_mths_ex_med'].fillna(0)\n",
    "    train_df['total_rev_hi_lim']=train_df['total_rev_hi_lim'].fillna(train_df['total_rev_hi_lim'].mean())\n",
    "    train_df['tot_cur_bal']=train_df['tot_cur_bal'].fillna(train_df['tot_cur_bal'].mean())\n",
    "    train_df['revol_util']=train_df['revol_util'].fillna(train_df['revol_util'].median())\n",
    "    train_df['emp_length']=train_df['emp_length'].str.split(' ').str[0]\n",
    "    train_df['emp_length']=train_df['emp_length'].replace('<',0)\n",
    "    train_df['emp_length']=train_df['emp_length'].replace('10+',10)\n",
    "    train_df['emp_length']=train_df['emp_length'].fillna(999)\n",
    "    train_df['emp_length']=train_df['emp_length'].astype('int64')\n",
    "    train_df['emp_length']=train_df['emp_length'].replace(999,train_df['emp_length'].mean())\n",
    "    train_df['last_credit_pull_d']=train_df['last_credit_pull_d'].fillna('Jan-2016')\n",
    "    train_df['last_pymnt_d']=train_df['last_pymnt_d'].fillna('Jan-2016')\n",
    "    train_df['next_pymnt_d']=train_df['next_pymnt_d'].fillna('Feb-2016')\n",
    "    train_df['mths_since_last_delinq']=train_df['mths_since_last_delinq'].fillna(train_df['mths_since_last_delinq'].median())\n",
    "    train_df.drop(['collection_recovery_fee','recoveries','total_rec_late_fee'],1,inplace=True)\n",
    "    train_df.drop(['issue_d'],1,inplace=True)\n",
    "    train_df['earliest_cr_line']= pd.to_datetime(train_df['earliest_cr_line'])\n",
    "    train_df['earliest_cr_line_year']=train_df['earliest_cr_line'].dt.year\n",
    "    train_df.drop(['earliest_cr_line'],1,inplace=True)\n",
    "    col=['term', 'grade', 'sub_grade', 'home_ownership', 'verification_status', 'purpose', 'initial_list_status', 'last_pymnt_d', 'next_pymnt_d', 'last_credit_pull_d','addr_state']\n",
    "    \n",
    "    return train_df\n"
   ]
  },
  {
   "cell_type": "code",
   "execution_count": 30,
   "metadata": {
    "execution": {
     "iopub.execute_input": "2021-03-24T16:41:59.979947Z",
     "iopub.status.busy": "2021-03-24T16:41:59.979302Z",
     "iopub.status.idle": "2021-03-24T16:42:03.234646Z",
     "shell.execute_reply": "2021-03-24T16:42:03.233704Z"
    },
    "papermill": {
     "duration": 3.317158,
     "end_time": "2021-03-24T16:42:03.234796",
     "exception": false,
     "start_time": "2021-03-24T16:41:59.917638",
     "status": "completed"
    },
    "tags": []
   },
   "outputs": [],
   "source": [
    "train_df=feature_engg(train_df)"
   ]
  },
  {
   "cell_type": "code",
   "execution_count": 31,
   "metadata": {
    "execution": {
     "iopub.execute_input": "2021-03-24T16:42:03.353030Z",
     "iopub.status.busy": "2021-03-24T16:42:03.352434Z",
     "iopub.status.idle": "2021-03-24T16:42:04.610605Z",
     "shell.execute_reply": "2021-03-24T16:42:04.611188Z"
    },
    "papermill": {
     "duration": 1.319035,
     "end_time": "2021-03-24T16:42:04.611359",
     "exception": false,
     "start_time": "2021-03-24T16:42:03.292324",
     "status": "completed"
    },
    "tags": []
   },
   "outputs": [],
   "source": [
    "test_df=feature_engg(test_df)"
   ]
  },
  {
   "cell_type": "code",
   "execution_count": 32,
   "metadata": {
    "execution": {
     "iopub.execute_input": "2021-03-24T16:42:04.729545Z",
     "iopub.status.busy": "2021-03-24T16:42:04.728877Z",
     "iopub.status.idle": "2021-03-24T16:42:04.773804Z",
     "shell.execute_reply": "2021-03-24T16:42:04.774305Z"
    },
    "papermill": {
     "duration": 0.105699,
     "end_time": "2021-03-24T16:42:04.774501",
     "exception": false,
     "start_time": "2021-03-24T16:42:04.668802",
     "status": "completed"
    },
    "tags": []
   },
   "outputs": [],
   "source": [
    "test_df2=copy.deepcopy(test_df)"
   ]
  },
  {
   "cell_type": "code",
   "execution_count": 33,
   "metadata": {
    "execution": {
     "iopub.execute_input": "2021-03-24T16:42:04.893556Z",
     "iopub.status.busy": "2021-03-24T16:42:04.892888Z",
     "iopub.status.idle": "2021-03-24T16:42:06.956878Z",
     "shell.execute_reply": "2021-03-24T16:42:06.957363Z"
    },
    "papermill": {
     "duration": 2.125538,
     "end_time": "2021-03-24T16:42:06.957557",
     "exception": false,
     "start_time": "2021-03-24T16:42:04.832019",
     "status": "completed"
    },
    "tags": []
   },
   "outputs": [
    {
     "data": {
      "text/html": [
       "<div>\n",
       "<style scoped>\n",
       "    .dataframe tbody tr th:only-of-type {\n",
       "        vertical-align: middle;\n",
       "    }\n",
       "\n",
       "    .dataframe tbody tr th {\n",
       "        vertical-align: top;\n",
       "    }\n",
       "\n",
       "    .dataframe thead th {\n",
       "        text-align: right;\n",
       "    }\n",
       "</style>\n",
       "<table border=\"1\" class=\"dataframe\">\n",
       "  <thead>\n",
       "    <tr style=\"text-align: right;\">\n",
       "      <th></th>\n",
       "      <th>Total</th>\n",
       "      <th>Percent</th>\n",
       "    </tr>\n",
       "  </thead>\n",
       "  <tbody>\n",
       "    <tr>\n",
       "      <th>loan_amnt</th>\n",
       "      <td>0</td>\n",
       "      <td>0.0</td>\n",
       "    </tr>\n",
       "    <tr>\n",
       "      <th>next_pymnt_d</th>\n",
       "      <td>0</td>\n",
       "      <td>0.0</td>\n",
       "    </tr>\n",
       "    <tr>\n",
       "      <th>initial_list_status</th>\n",
       "      <td>0</td>\n",
       "      <td>0.0</td>\n",
       "    </tr>\n",
       "    <tr>\n",
       "      <th>out_prncp</th>\n",
       "      <td>0</td>\n",
       "      <td>0.0</td>\n",
       "    </tr>\n",
       "    <tr>\n",
       "      <th>total_pymnt</th>\n",
       "      <td>0</td>\n",
       "      <td>0.0</td>\n",
       "    </tr>\n",
       "    <tr>\n",
       "      <th>total_rec_int</th>\n",
       "      <td>0</td>\n",
       "      <td>0.0</td>\n",
       "    </tr>\n",
       "    <tr>\n",
       "      <th>last_pymnt_d</th>\n",
       "      <td>0</td>\n",
       "      <td>0.0</td>\n",
       "    </tr>\n",
       "    <tr>\n",
       "      <th>last_pymnt_amnt</th>\n",
       "      <td>0</td>\n",
       "      <td>0.0</td>\n",
       "    </tr>\n",
       "    <tr>\n",
       "      <th>last_credit_pull_d</th>\n",
       "      <td>0</td>\n",
       "      <td>0.0</td>\n",
       "    </tr>\n",
       "    <tr>\n",
       "      <th>revol_util</th>\n",
       "      <td>0</td>\n",
       "      <td>0.0</td>\n",
       "    </tr>\n",
       "  </tbody>\n",
       "</table>\n",
       "</div>"
      ],
      "text/plain": [
       "                     Total  Percent\n",
       "loan_amnt                0      0.0\n",
       "next_pymnt_d             0      0.0\n",
       "initial_list_status      0      0.0\n",
       "out_prncp                0      0.0\n",
       "total_pymnt              0      0.0\n",
       "total_rec_int            0      0.0\n",
       "last_pymnt_d             0      0.0\n",
       "last_pymnt_amnt          0      0.0\n",
       "last_credit_pull_d       0      0.0\n",
       "revol_util               0      0.0"
      ]
     },
     "execution_count": 33,
     "metadata": {},
     "output_type": "execute_result"
    }
   ],
   "source": [
    "total = train_df.isnull().sum().sort_values(ascending=False)\n",
    "percent = (train_df.isnull().sum()/train_df.isnull().count()).sort_values(ascending=False)\n",
    "missing_data = pd.concat([total, percent], axis=1, keys=['Total', 'Percent'])\n",
    "missing_data.head(10)"
   ]
  },
  {
   "cell_type": "code",
   "execution_count": 34,
   "metadata": {
    "execution": {
     "iopub.execute_input": "2021-03-24T16:42:07.084135Z",
     "iopub.status.busy": "2021-03-24T16:42:07.082913Z",
     "iopub.status.idle": "2021-03-24T16:42:07.495333Z",
     "shell.execute_reply": "2021-03-24T16:42:07.494764Z"
    },
    "papermill": {
     "duration": 0.479526,
     "end_time": "2021-03-24T16:42:07.495492",
     "exception": false,
     "start_time": "2021-03-24T16:42:07.015966",
     "status": "completed"
    },
    "tags": []
   },
   "outputs": [],
   "source": [
    "train_df=train_df.append(test_df)"
   ]
  },
  {
   "cell_type": "code",
   "execution_count": 35,
   "metadata": {
    "execution": {
     "iopub.execute_input": "2021-03-24T16:42:07.615463Z",
     "iopub.status.busy": "2021-03-24T16:42:07.614757Z",
     "iopub.status.idle": "2021-03-24T16:42:07.618296Z",
     "shell.execute_reply": "2021-03-24T16:42:07.618915Z"
    },
    "papermill": {
     "duration": 0.066939,
     "end_time": "2021-03-24T16:42:07.619089",
     "exception": false,
     "start_time": "2021-03-24T16:42:07.552150",
     "status": "completed"
    },
    "tags": []
   },
   "outputs": [
    {
     "data": {
      "text/plain": [
       "(256991, 35)"
      ]
     },
     "execution_count": 35,
     "metadata": {},
     "output_type": "execute_result"
    }
   ],
   "source": [
    "test_df.shape"
   ]
  },
  {
   "cell_type": "code",
   "execution_count": 36,
   "metadata": {
    "execution": {
     "iopub.execute_input": "2021-03-24T16:42:07.741427Z",
     "iopub.status.busy": "2021-03-24T16:42:07.740567Z",
     "iopub.status.idle": "2021-03-24T16:42:07.744073Z",
     "shell.execute_reply": "2021-03-24T16:42:07.744573Z"
    },
    "papermill": {
     "duration": 0.067299,
     "end_time": "2021-03-24T16:42:07.744735",
     "exception": false,
     "start_time": "2021-03-24T16:42:07.677436",
     "status": "completed"
    },
    "tags": []
   },
   "outputs": [
    {
     "data": {
      "text/plain": [
       "(855969, 35)"
      ]
     },
     "execution_count": 36,
     "metadata": {},
     "output_type": "execute_result"
    }
   ],
   "source": [
    "train_df.shape"
   ]
  },
  {
   "cell_type": "code",
   "execution_count": 37,
   "metadata": {
    "execution": {
     "iopub.execute_input": "2021-03-24T16:42:07.866593Z",
     "iopub.status.busy": "2021-03-24T16:42:07.865673Z",
     "iopub.status.idle": "2021-03-24T16:42:07.868965Z",
     "shell.execute_reply": "2021-03-24T16:42:07.869418Z"
    },
    "papermill": {
     "duration": 0.066002,
     "end_time": "2021-03-24T16:42:07.869596",
     "exception": false,
     "start_time": "2021-03-24T16:42:07.803594",
     "status": "completed"
    },
    "tags": []
   },
   "outputs": [],
   "source": [
    "#!pip install sweetviz\n",
    "#import sweetviz as sv\n",
    "#rptrt=sv.analyze(test_df)\n",
    "#rptrt.show_html()"
   ]
  },
  {
   "cell_type": "code",
   "execution_count": 38,
   "metadata": {
    "execution": {
     "iopub.execute_input": "2021-03-24T16:42:07.991935Z",
     "iopub.status.busy": "2021-03-24T16:42:07.990979Z",
     "iopub.status.idle": "2021-03-24T16:42:11.840591Z",
     "shell.execute_reply": "2021-03-24T16:42:11.840018Z"
    },
    "papermill": {
     "duration": 3.911901,
     "end_time": "2021-03-24T16:42:11.840742",
     "exception": false,
     "start_time": "2021-03-24T16:42:07.928841",
     "status": "completed"
    },
    "tags": []
   },
   "outputs": [],
   "source": [
    "from sklearn import preprocessing\n",
    "\n",
    "col=['term', 'grade', 'sub_grade', 'home_ownership', 'verification_status', 'purpose', 'initial_list_status', 'last_pymnt_d', 'next_pymnt_d', 'last_credit_pull_d','addr_state']\n",
    "for feat in col: \n",
    "    encoder = preprocessing.LabelEncoder() \n",
    "    train_df[feat] = encoder.fit_transform(train_df[feat])\n"
   ]
  },
  {
   "cell_type": "code",
   "execution_count": 39,
   "metadata": {
    "execution": {
     "iopub.execute_input": "2021-03-24T16:42:11.972157Z",
     "iopub.status.busy": "2021-03-24T16:42:11.971331Z",
     "iopub.status.idle": "2021-03-24T16:42:11.974733Z",
     "shell.execute_reply": "2021-03-24T16:42:11.975194Z"
    },
    "papermill": {
     "duration": 0.075172,
     "end_time": "2021-03-24T16:42:11.975358",
     "exception": false,
     "start_time": "2021-03-24T16:42:11.900186",
     "status": "completed"
    },
    "tags": []
   },
   "outputs": [],
   "source": [
    "test_df=train_df.tail(256991)\n",
    "train_df=train_df.head(598978)"
   ]
  },
  {
   "cell_type": "code",
   "execution_count": 40,
   "metadata": {
    "execution": {
     "iopub.execute_input": "2021-03-24T16:42:12.100812Z",
     "iopub.status.busy": "2021-03-24T16:42:12.100147Z",
     "iopub.status.idle": "2021-03-24T16:42:12.103099Z",
     "shell.execute_reply": "2021-03-24T16:42:12.103542Z"
    },
    "papermill": {
     "duration": 0.067843,
     "end_time": "2021-03-24T16:42:12.103713",
     "exception": false,
     "start_time": "2021-03-24T16:42:12.035870",
     "status": "completed"
    },
    "tags": []
   },
   "outputs": [],
   "source": [
    "#train_df.to_csv('train_1.0.csv')"
   ]
  },
  {
   "cell_type": "code",
   "execution_count": 41,
   "metadata": {
    "execution": {
     "iopub.execute_input": "2021-03-24T16:42:12.226105Z",
     "iopub.status.busy": "2021-03-24T16:42:12.225430Z",
     "iopub.status.idle": "2021-03-24T16:42:12.673618Z",
     "shell.execute_reply": "2021-03-24T16:42:12.672202Z"
    },
    "papermill": {
     "duration": 0.510471,
     "end_time": "2021-03-24T16:42:12.673775",
     "exception": false,
     "start_time": "2021-03-24T16:42:12.163304",
     "status": "completed"
    },
    "tags": []
   },
   "outputs": [],
   "source": [
    "from imblearn.pipeline import make_pipeline as make_pipeline_imb # To do our transformation in a unique time\n",
    "from imblearn.over_sampling import SMOTE\n",
    "from sklearn.pipeline import make_pipeline\n",
    "from imblearn.metrics import classification_report_imbalanced\n",
    "\n",
    "from sklearn.model_selection import train_test_split\n",
    "from collections import Counter\n",
    "\n",
    "from sklearn.linear_model import LogisticRegression\n",
    "from sklearn.ensemble import RandomForestClassifier\n",
    "\n",
    "\n",
    "from sklearn.metrics import roc_curve,precision_score, recall_score, fbeta_score, confusion_matrix,roc_auc_score, precision_recall_curve, accuracy_score"
   ]
  },
  {
   "cell_type": "code",
   "execution_count": 42,
   "metadata": {
    "execution": {
     "iopub.execute_input": "2021-03-24T16:42:12.801545Z",
     "iopub.status.busy": "2021-03-24T16:42:12.800083Z",
     "iopub.status.idle": "2021-03-24T16:42:12.960915Z",
     "shell.execute_reply": "2021-03-24T16:42:12.960357Z"
    },
    "papermill": {
     "duration": 0.227061,
     "end_time": "2021-03-24T16:42:12.961055",
     "exception": false,
     "start_time": "2021-03-24T16:42:12.733994",
     "status": "completed"
    },
    "tags": []
   },
   "outputs": [],
   "source": [
    "X = train_df.drop([\"default_ind\"], axis=1)\n",
    "y = train_df[\"default_ind\"] "
   ]
  },
  {
   "cell_type": "code",
   "execution_count": 43,
   "metadata": {
    "execution": {
     "iopub.execute_input": "2021-03-24T16:42:13.099149Z",
     "iopub.status.busy": "2021-03-24T16:42:13.098290Z",
     "iopub.status.idle": "2021-03-24T16:42:13.344694Z",
     "shell.execute_reply": "2021-03-24T16:42:13.344007Z"
    },
    "papermill": {
     "duration": 0.324032,
     "end_time": "2021-03-24T16:42:13.344840",
     "exception": false,
     "start_time": "2021-03-24T16:42:13.020808",
     "status": "completed"
    },
    "tags": []
   },
   "outputs": [],
   "source": [
    "def print_results(headline, true_value, pred):\n",
    "    print(headline)\n",
    "    print(\"accuracy: {}\".format(accuracy_score(true_value, pred)))\n",
    "    print(\"precision: {}\".format(precision_score(true_value, pred)))\n",
    "    print(\"recall: {}\".format(recall_score(true_value, pred)))\n",
    "    print(\"f2: {}\".format(fbeta_score(true_value, pred, beta=2)))\n",
    "\n",
    "# splitting data into training and test set\n",
    "X_train, X_test, y_train, y_test = train_test_split(X, y, random_state=2, test_size=0.20)"
   ]
  },
  {
   "cell_type": "code",
   "execution_count": 44,
   "metadata": {
    "execution": {
     "iopub.execute_input": "2021-03-24T16:42:13.470724Z",
     "iopub.status.busy": "2021-03-24T16:42:13.469714Z",
     "iopub.status.idle": "2021-03-24T16:42:13.473635Z",
     "shell.execute_reply": "2021-03-24T16:42:13.473027Z"
    },
    "papermill": {
     "duration": 0.068907,
     "end_time": "2021-03-24T16:42:13.473778",
     "exception": false,
     "start_time": "2021-03-24T16:42:13.404871",
     "status": "completed"
    },
    "tags": []
   },
   "outputs": [
    {
     "data": {
      "text/plain": [
       "(479182, 34)"
      ]
     },
     "execution_count": 44,
     "metadata": {},
     "output_type": "execute_result"
    }
   ],
   "source": [
    "X_train.shape"
   ]
  },
  {
   "cell_type": "code",
   "execution_count": 45,
   "metadata": {
    "execution": {
     "iopub.execute_input": "2021-03-24T16:42:13.599275Z",
     "iopub.status.busy": "2021-03-24T16:42:13.598353Z",
     "iopub.status.idle": "2021-03-24T16:50:30.193853Z",
     "shell.execute_reply": "2021-03-24T16:50:30.193036Z"
    },
    "papermill": {
     "duration": 496.660015,
     "end_time": "2021-03-24T16:50:30.194040",
     "exception": false,
     "start_time": "2021-03-24T16:42:13.534025",
     "status": "completed"
    },
    "tags": []
   },
   "outputs": [],
   "source": [
    "classifier= RandomForestClassifier\n",
    "\n",
    "\n",
    "smote_pipeline = make_pipeline_imb(SMOTE(random_state=4), \\\n",
    "                                   classifier(random_state=42))\n",
    "\n",
    "smote_model = smote_pipeline.fit(X_train, y_train)\n",
    "smote_prediction = smote_model.predict(X_test)\n",
    "\n"
   ]
  },
  {
   "cell_type": "code",
   "execution_count": 46,
   "metadata": {
    "execution": {
     "iopub.execute_input": "2021-03-24T16:50:30.323530Z",
     "iopub.status.busy": "2021-03-24T16:50:30.322869Z",
     "iopub.status.idle": "2021-03-24T16:50:33.752758Z",
     "shell.execute_reply": "2021-03-24T16:50:33.753676Z"
    },
    "papermill": {
     "duration": 3.497748,
     "end_time": "2021-03-24T16:50:33.753901",
     "exception": false,
     "start_time": "2021-03-24T16:50:30.256153",
     "status": "completed"
    },
    "tags": []
   },
   "outputs": [
    {
     "name": "stdout",
     "output_type": "stream",
     "text": [
      "[[110146    306]\n",
      " [   375   8969]]\n",
      "\n",
      "SMOTE Pipeline Score 0.9943153360713213\n",
      "\n",
      "SMOTE + RandomForest classification\n",
      "accuracy: 0.9943153360713213\n",
      "precision: 0.9670080862533693\n",
      "recall: 0.959867294520548\n",
      "f2: 0.9612870034940302\n"
     ]
    }
   ],
   "source": [
    "print(confusion_matrix(y_test, smote_prediction))\n",
    "\n",
    "print('\\nSMOTE Pipeline Score {}'.format(smote_pipeline.score(X_test, y_test)))\n",
    "\n",
    "print_results(\"\\nSMOTE + RandomForest classification\", y_test, smote_prediction)"
   ]
  },
  {
   "cell_type": "code",
   "execution_count": 47,
   "metadata": {
    "execution": {
     "iopub.execute_input": "2021-03-24T16:50:33.885790Z",
     "iopub.status.busy": "2021-03-24T16:50:33.885083Z",
     "iopub.status.idle": "2021-03-24T16:50:37.148143Z",
     "shell.execute_reply": "2021-03-24T16:50:37.147653Z"
    },
    "papermill": {
     "duration": 3.332502,
     "end_time": "2021-03-24T16:50:37.148282",
     "exception": false,
     "start_time": "2021-03-24T16:50:33.815780",
     "status": "completed"
    },
    "tags": []
   },
   "outputs": [
    {
     "data": {
      "image/png": "[encoded data removed]",
      "text/plain": [
       "<Figure size 432x288 with 1 Axes>"
      ]
     },
     "metadata": {
      "needs_background": "light"
     },
     "output_type": "display_data"
    }
   ],
   "source": [
    "import matplotlib.pyplot as plt\n",
    "# Compute predicted probabilities: y_pred_prob\n",
    "y_pred_prob = smote_pipeline.predict_proba(X_test)[:,1]\n",
    "\n",
    "# Generate precision recall curve values: precision, recall, thresholds\n",
    "precision, recall, thresholds = precision_recall_curve(y_test, y_pred_prob)\n",
    "\n",
    "# Plot ROC curve\n",
    "plt.plot(precision, recall)\n",
    "plt.xlabel('Recall')\n",
    "plt.ylabel('Precision')\n",
    "plt.title('Precision Recall Curve')\n",
    "plt.show()"
   ]
  },
  {
   "cell_type": "code",
   "execution_count": 48,
   "metadata": {
    "execution": {
     "iopub.execute_input": "2021-03-24T16:50:37.278976Z",
     "iopub.status.busy": "2021-03-24T16:50:37.278296Z",
     "iopub.status.idle": "2021-03-24T16:50:37.441290Z",
     "shell.execute_reply": "2021-03-24T16:50:37.440705Z"
    },
    "papermill": {
     "duration": 0.230248,
     "end_time": "2021-03-24T16:50:37.441481",
     "exception": false,
     "start_time": "2021-03-24T16:50:37.211233",
     "status": "completed"
    },
    "tags": []
   },
   "outputs": [
    {
     "name": "stdout",
     "output_type": "stream",
     "text": [
      "ROC_AUC score:  0.9989691826012936\n"
     ]
    },
    {
     "data": {
      "text/plain": [
       "[<matplotlib.lines.Line2D at 0x7f1375c89e10>]"
      ]
     },
     "execution_count": 48,
     "metadata": {},
     "output_type": "execute_result"
    },
    {
     "data": {
      "image/png": "[encoded data removed]",
      "text/plain": [
       "<Figure size 432x288 with 1 Axes>"
      ]
     },
     "metadata": {
      "needs_background": "light"
     },
     "output_type": "display_data"
    }
   ],
   "source": [
    "print(\"ROC_AUC score: \",roc_auc_score(y_test, y_pred_prob))\n",
    "fpr_smt_rf, tpr_smt_rf, _ = roc_curve(y_test, y_pred_prob)\n",
    "plt.plot(fpr_smt_rf, tpr_smt_rf)\n"
   ]
  },
  {
   "cell_type": "code",
   "execution_count": 49,
   "metadata": {
    "execution": {
     "iopub.execute_input": "2021-03-24T16:50:37.574121Z",
     "iopub.status.busy": "2021-03-24T16:50:37.573552Z",
     "iopub.status.idle": "2021-03-24T16:50:37.576079Z",
     "shell.execute_reply": "2021-03-24T16:50:37.576581Z"
    },
    "papermill": {
     "duration": 0.071478,
     "end_time": "2021-03-24T16:50:37.576763",
     "exception": false,
     "start_time": "2021-03-24T16:50:37.505285",
     "status": "completed"
    },
    "tags": []
   },
   "outputs": [],
   "source": [
    "from sklearn.ensemble import RandomForestClassifier\n",
    "from sklearn.model_selection import KFold, cross_val_score\n",
    "from sklearn.model_selection import GridSearchCV"
   ]
  },
  {
   "cell_type": "code",
   "execution_count": 50,
   "metadata": {
    "execution": {
     "iopub.execute_input": "2021-03-24T16:50:37.708002Z",
     "iopub.status.busy": "2021-03-24T16:50:37.707424Z",
     "iopub.status.idle": "2021-03-24T16:50:37.712303Z",
     "shell.execute_reply": "2021-03-24T16:50:37.712884Z"
    },
    "papermill": {
     "duration": 0.072173,
     "end_time": "2021-03-24T16:50:37.713044",
     "exception": false,
     "start_time": "2021-03-24T16:50:37.640871",
     "status": "completed"
    },
    "tags": []
   },
   "outputs": [],
   "source": [
    "param_grid = {\"max_depth\": [3,5, None],\n",
    "              \"n_estimators\":[3,5,10],\n",
    "              \"max_features\": [5,6,7,8]}\n",
    "\n",
    "# Creating the classifier\n",
    "model = RandomForestClassifier(max_features=3, max_depth=2 ,n_estimators=10, random_state=3, criterion='entropy', n_jobs=-1, verbose=2 )\n"
   ]
  },
  {
   "cell_type": "code",
   "execution_count": 51,
   "metadata": {
    "execution": {
     "iopub.execute_input": "2021-03-24T16:50:37.845109Z",
     "iopub.status.busy": "2021-03-24T16:50:37.844539Z",
     "iopub.status.idle": "2021-03-24T16:50:37.848512Z",
     "shell.execute_reply": "2021-03-24T16:50:37.847995Z"
    },
    "papermill": {
     "duration": 0.070606,
     "end_time": "2021-03-24T16:50:37.848651",
     "exception": false,
     "start_time": "2021-03-24T16:50:37.778045",
     "status": "completed"
    },
    "tags": []
   },
   "outputs": [],
   "source": [
    "#grid_search = GridSearchCV(model, param_grid=param_grid, cv=5, scoring='recall')\n",
    "#grid_search.fit(X_train, y_train)\n"
   ]
  },
  {
   "cell_type": "code",
   "execution_count": 52,
   "metadata": {
    "execution": {
     "iopub.execute_input": "2021-03-24T16:50:37.981335Z",
     "iopub.status.busy": "2021-03-24T16:50:37.980750Z",
     "iopub.status.idle": "2021-03-24T16:50:37.983642Z",
     "shell.execute_reply": "2021-03-24T16:50:37.983139Z"
    },
    "papermill": {
     "duration": 0.070961,
     "end_time": "2021-03-24T16:50:37.983783",
     "exception": false,
     "start_time": "2021-03-24T16:50:37.912822",
     "status": "completed"
    },
    "tags": []
   },
   "outputs": [],
   "source": [
    "#print(grid_search.best_score_)\n",
    "#print(grid_search.best_params_)"
   ]
  },
  {
   "cell_type": "code",
   "execution_count": 53,
   "metadata": {
    "execution": {
     "iopub.execute_input": "2021-03-24T16:50:38.122651Z",
     "iopub.status.busy": "2021-03-24T16:50:38.121980Z",
     "iopub.status.idle": "2021-03-24T16:50:44.714894Z",
     "shell.execute_reply": "2021-03-24T16:50:44.714288Z"
    },
    "papermill": {
     "duration": 6.667074,
     "end_time": "2021-03-24T16:50:44.715038",
     "exception": false,
     "start_time": "2021-03-24T16:50:38.047964",
     "status": "completed"
    },
    "tags": []
   },
   "outputs": [
    {
     "data": {
      "text/plain": [
       "RandomForestClassifier(max_features=8, n_estimators=3)"
      ]
     },
     "execution_count": 53,
     "metadata": {},
     "output_type": "execute_result"
    }
   ],
   "source": [
    "rf = RandomForestClassifier(max_depth=None, max_features = 8, n_estimators = 3)\n",
    "rf.fit(X_train, y_train)"
   ]
  },
  {
   "cell_type": "code",
   "execution_count": 54,
   "metadata": {
    "execution": {
     "iopub.execute_input": "2021-03-24T16:50:44.853731Z",
     "iopub.status.busy": "2021-03-24T16:50:44.853029Z",
     "iopub.status.idle": "2021-03-24T16:50:45.213960Z",
     "shell.execute_reply": "2021-03-24T16:50:45.213461Z"
    },
    "papermill": {
     "duration": 0.43294,
     "end_time": "2021-03-24T16:50:45.214099",
     "exception": false,
     "start_time": "2021-03-24T16:50:44.781159",
     "status": "completed"
    },
    "tags": []
   },
   "outputs": [
    {
     "name": "stdout",
     "output_type": "stream",
     "text": [
      "Training score data: \n",
      "0.9987353448167919\n"
     ]
    }
   ],
   "source": [
    "print(\"Training score data: \")\n",
    "print(rf.score(X_train, y_train))"
   ]
  },
  {
   "cell_type": "code",
   "execution_count": 55,
   "metadata": {
    "execution": {
     "iopub.execute_input": "2021-03-24T16:50:45.353163Z",
     "iopub.status.busy": "2021-03-24T16:50:45.352523Z",
     "iopub.status.idle": "2021-03-24T16:50:45.712425Z",
     "shell.execute_reply": "2021-03-24T16:50:45.712936Z"
    },
    "papermill": {
     "duration": 0.433019,
     "end_time": "2021-03-24T16:50:45.713104",
     "exception": false,
     "start_time": "2021-03-24T16:50:45.280085",
     "status": "completed"
    },
    "tags": []
   },
   "outputs": [
    {
     "name": "stdout",
     "output_type": "stream",
     "text": [
      "[[110210    242]\n",
      " [   547   8797]]\n",
      "RF classification\n",
      "accuracy: 0.993413803465892\n",
      "precision: 0.973227126894568\n",
      "recall: 0.9414597602739726\n",
      "f2: 0.9476462350533233\n"
     ]
    }
   ],
   "source": [
    "y_pred = rf.predict(X_test)\n",
    "\n",
    "print(confusion_matrix(y_test, y_pred))\n",
    "print_results(\"RF classification\", y_test, y_pred)"
   ]
  },
  {
   "cell_type": "code",
   "execution_count": 56,
   "metadata": {
    "execution": {
     "iopub.execute_input": "2021-03-24T16:50:45.850611Z",
     "iopub.status.busy": "2021-03-24T16:50:45.849958Z",
     "iopub.status.idle": "2021-03-24T16:50:45.853136Z",
     "shell.execute_reply": "2021-03-24T16:50:45.852663Z"
    },
    "papermill": {
     "duration": 0.073259,
     "end_time": "2021-03-24T16:50:45.853298",
     "exception": false,
     "start_time": "2021-03-24T16:50:45.780039",
     "status": "completed"
    },
    "tags": []
   },
   "outputs": [],
   "source": [
    "col=train_df.columns.tolist()\n",
    "col.remove('default_ind')\n"
   ]
  },
  {
   "cell_type": "code",
   "execution_count": 57,
   "metadata": {
    "execution": {
     "iopub.execute_input": "2021-03-24T16:50:45.993239Z",
     "iopub.status.busy": "2021-03-24T16:50:45.992601Z",
     "iopub.status.idle": "2021-03-24T16:50:46.457295Z",
     "shell.execute_reply": "2021-03-24T16:50:46.456782Z"
    },
    "papermill": {
     "duration": 0.538259,
     "end_time": "2021-03-24T16:50:46.457460",
     "exception": false,
     "start_time": "2021-03-24T16:50:45.919201",
     "status": "completed"
    },
    "tags": []
   },
   "outputs": [
    {
     "data": {
      "image/png": "[encoded data removed]",
      "text/plain": [
       "<Figure size 648x360 with 1 Axes>"
      ]
     },
     "metadata": {
      "needs_background": "light"
     },
     "output_type": "display_data"
    }
   ],
   "source": [
    "import matplotlib.pyplot as plt\n",
    "import seaborn as sns\n",
    "plt.figure(figsize = (9,5))\n",
    "\n",
    "feat_import = pd.DataFrame({'Feature': col, 'Feature importance': rf.feature_importances_})\n",
    "feat_import = feat_import.sort_values(by='Feature importance',ascending=False)\n",
    "\n",
    "g = sns.barplot(x='Feature',y='Feature importance',data=feat_import)\n",
    "g.set_xticklabels(g.get_xticklabels(),rotation=90)\n",
    "g.set_title('Features importance - Random Forest',fontsize=20)\n",
    "plt.show() \n"
   ]
  },
  {
   "cell_type": "code",
   "execution_count": 58,
   "metadata": {
    "execution": {
     "iopub.execute_input": "2021-03-24T16:50:46.601025Z",
     "iopub.status.busy": "2021-03-24T16:50:46.600296Z",
     "iopub.status.idle": "2021-03-24T16:50:46.820606Z",
     "shell.execute_reply": "2021-03-24T16:50:46.819730Z"
    },
    "papermill": {
     "duration": 0.295586,
     "end_time": "2021-03-24T16:50:46.820836",
     "exception": false,
     "start_time": "2021-03-24T16:50:46.525250",
     "status": "completed"
    },
    "tags": []
   },
   "outputs": [
    {
     "data": {
      "image/png": "[encoded data removed]",
      "text/plain": [
       "<Figure size 432x288 with 1 Axes>"
      ]
     },
     "metadata": {
      "needs_background": "light"
     },
     "output_type": "display_data"
    }
   ],
   "source": [
    "y_pred_prob = rf.predict_proba(X_test)[:,1]\n",
    "\n",
    "# Generate precision recall curve values: precision, recall, thresholds\n",
    "precision, recall, thresholds = precision_recall_curve(y_test, y_pred_prob)\n",
    "\n",
    "# Plot ROC curve\n",
    "plt.plot(precision, recall)\n",
    "plt.xlabel('Recall')\n",
    "plt.ylabel('Precision')\n",
    "plt.title('Precision Recall Curve')\n",
    "plt.show()"
   ]
  },
  {
   "cell_type": "code",
   "execution_count": 59,
   "metadata": {
    "execution": {
     "iopub.execute_input": "2021-03-24T16:50:46.969793Z",
     "iopub.status.busy": "2021-03-24T16:50:46.969112Z",
     "iopub.status.idle": "2021-03-24T16:50:47.148193Z",
     "shell.execute_reply": "2021-03-24T16:50:47.147476Z"
    },
    "papermill": {
     "duration": 0.253137,
     "end_time": "2021-03-24T16:50:47.148342",
     "exception": false,
     "start_time": "2021-03-24T16:50:46.895205",
     "status": "completed"
    },
    "tags": []
   },
   "outputs": [
    {
     "name": "stdout",
     "output_type": "stream",
     "text": [
      "ROC_AUC score:  0.9892205129535597\n"
     ]
    },
    {
     "data": {
      "text/plain": [
       "[<matplotlib.lines.Line2D at 0x7f1375995610>]"
      ]
     },
     "execution_count": 59,
     "metadata": {},
     "output_type": "execute_result"
    },
    {
     "data": {
      "image/png": "[encoded data removed]",
      "text/plain": [
       "<Figure size 432x288 with 1 Axes>"
      ]
     },
     "metadata": {
      "needs_background": "light"
     },
     "output_type": "display_data"
    }
   ],
   "source": [
    "print(\"ROC_AUC score: \",roc_auc_score(y_test, y_pred_prob))\n",
    "fpr, tpr, _ = roc_curve(y_test, y_pred_prob)\n",
    "plt.plot(fpr, tpr)\n"
   ]
  },
  {
   "cell_type": "code",
   "execution_count": 60,
   "metadata": {
    "execution": {
     "iopub.execute_input": "2021-03-24T16:50:47.299078Z",
     "iopub.status.busy": "2021-03-24T16:50:47.298061Z",
     "iopub.status.idle": "2021-03-24T16:51:37.698371Z",
     "shell.execute_reply": "2021-03-24T16:51:37.698904Z"
    },
    "papermill": {
     "duration": 50.478054,
     "end_time": "2021-03-24T16:51:37.699083",
     "exception": false,
     "start_time": "2021-03-24T16:50:47.221029",
     "status": "completed"
    },
    "tags": []
   },
   "outputs": [
    {
     "data": {
      "text/plain": [
       "array([0.91825095, 0.93128734, 0.92311872, 0.92963869, 0.92420538,\n",
       "       0.94023363, 0.91469709, 0.91904374, 0.92909535, 0.90953545])"
      ]
     },
     "execution_count": 60,
     "metadata": {},
     "output_type": "execute_result"
    }
   ],
   "source": [
    "results = cross_val_score(rf,X_train, y_train, cv=10, scoring='recall')\n",
    "results"
   ]
  },
  {
   "cell_type": "code",
   "execution_count": 61,
   "metadata": {
    "execution": {
     "iopub.execute_input": "2021-03-24T16:51:37.846264Z",
     "iopub.status.busy": "2021-03-24T16:51:37.845645Z",
     "iopub.status.idle": "2021-03-24T16:51:37.847981Z",
     "shell.execute_reply": "2021-03-24T16:51:37.848583Z"
    },
    "papermill": {
     "duration": 0.078586,
     "end_time": "2021-03-24T16:51:37.848745",
     "exception": false,
     "start_time": "2021-03-24T16:51:37.770159",
     "status": "completed"
    },
    "tags": []
   },
   "outputs": [],
   "source": [
    "#param_grid = {'C': [0.01, 0.1, 1, 10],\n",
    "#             'penalty':[None, 'l2']}\n",
    "\n",
    "#logreg = LogisticRegression(random_state=2)\n",
    "\n",
    "#grid_search_lr = GridSearchCV(logreg, param_grid=param_grid, scoring='recall', cv=5)\n",
    "\n",
    "#grid_search_lr.fit(X_train, y_train)"
   ]
  },
  {
   "cell_type": "code",
   "execution_count": 62,
   "metadata": {
    "execution": {
     "iopub.execute_input": "2021-03-24T16:51:37.991598Z",
     "iopub.status.busy": "2021-03-24T16:51:37.990988Z",
     "iopub.status.idle": "2021-03-24T16:51:37.994070Z",
     "shell.execute_reply": "2021-03-24T16:51:37.994589Z"
    },
    "papermill": {
     "duration": 0.075985,
     "end_time": "2021-03-24T16:51:37.994745",
     "exception": false,
     "start_time": "2021-03-24T16:51:37.918760",
     "status": "completed"
    },
    "tags": []
   },
   "outputs": [],
   "source": [
    "#print(grid_search_lr.best_score_)\n",
    "#Best parameter on trainning set\n",
    "#print(grid_search_lr.best_params_)"
   ]
  },
  {
   "cell_type": "code",
   "execution_count": 63,
   "metadata": {
    "execution": {
     "iopub.execute_input": "2021-03-24T16:51:38.141292Z",
     "iopub.status.busy": "2021-03-24T16:51:38.140707Z",
     "iopub.status.idle": "2021-03-24T16:52:19.011888Z",
     "shell.execute_reply": "2021-03-24T16:52:19.012593Z"
    },
    "papermill": {
     "duration": 40.947323,
     "end_time": "2021-03-24T16:52:19.012823",
     "exception": false,
     "start_time": "2021-03-24T16:51:38.065500",
     "status": "completed"
    },
    "tags": []
   },
   "outputs": [
    {
     "name": "stderr",
     "output_type": "stream",
     "text": [
      "/opt/conda/lib/python3.7/site-packages/sklearn/linear_model/_logistic.py:765: ConvergenceWarning: lbfgs failed to converge (status=1):\n",
      "STOP: TOTAL NO. of ITERATIONS REACHED LIMIT.\n",
      "\n",
      "Increase the number of iterations (max_iter) or scale the data as shown in:\n",
      "    https://scikit-learn.org/stable/modules/preprocessing.html\n",
      "Please also refer to the documentation for alternative solver options:\n",
      "    https://scikit-learn.org/stable/modules/linear_model.html#logistic-regression\n",
      "  extra_warning_msg=_LOGISTIC_SOLVER_CONVERGENCE_MSG)\n"
     ]
    },
    {
     "name": "stdout",
     "output_type": "stream",
     "text": [
      "Cross Validation of X and y Train: \n"
     ]
    },
    {
     "name": "stderr",
     "output_type": "stream",
     "text": [
      "/opt/conda/lib/python3.7/site-packages/sklearn/linear_model/_logistic.py:765: ConvergenceWarning: lbfgs failed to converge (status=1):\n",
      "STOP: TOTAL NO. of ITERATIONS REACHED LIMIT.\n",
      "\n",
      "Increase the number of iterations (max_iter) or scale the data as shown in:\n",
      "    https://scikit-learn.org/stable/modules/preprocessing.html\n",
      "Please also refer to the documentation for alternative solver options:\n",
      "    https://scikit-learn.org/stable/modules/linear_model.html#logistic-regression\n",
      "  extra_warning_msg=_LOGISTIC_SOLVER_CONVERGENCE_MSG)\n",
      "/opt/conda/lib/python3.7/site-packages/sklearn/linear_model/_logistic.py:765: ConvergenceWarning: lbfgs failed to converge (status=1):\n",
      "STOP: TOTAL NO. of ITERATIONS REACHED LIMIT.\n",
      "\n",
      "Increase the number of iterations (max_iter) or scale the data as shown in:\n",
      "    https://scikit-learn.org/stable/modules/preprocessing.html\n",
      "Please also refer to the documentation for alternative solver options:\n",
      "    https://scikit-learn.org/stable/modules/linear_model.html#logistic-regression\n",
      "  extra_warning_msg=_LOGISTIC_SOLVER_CONVERGENCE_MSG)\n",
      "/opt/conda/lib/python3.7/site-packages/sklearn/linear_model/_logistic.py:765: ConvergenceWarning: lbfgs failed to converge (status=1):\n",
      "STOP: TOTAL NO. of ITERATIONS REACHED LIMIT.\n",
      "\n",
      "Increase the number of iterations (max_iter) or scale the data as shown in:\n",
      "    https://scikit-learn.org/stable/modules/preprocessing.html\n",
      "Please also refer to the documentation for alternative solver options:\n",
      "    https://scikit-learn.org/stable/modules/linear_model.html#logistic-regression\n",
      "  extra_warning_msg=_LOGISTIC_SOLVER_CONVERGENCE_MSG)\n",
      "/opt/conda/lib/python3.7/site-packages/sklearn/linear_model/_logistic.py:765: ConvergenceWarning: lbfgs failed to converge (status=1):\n",
      "STOP: TOTAL NO. of ITERATIONS REACHED LIMIT.\n",
      "\n",
      "Increase the number of iterations (max_iter) or scale the data as shown in:\n",
      "    https://scikit-learn.org/stable/modules/preprocessing.html\n",
      "Please also refer to the documentation for alternative solver options:\n",
      "    https://scikit-learn.org/stable/modules/linear_model.html#logistic-regression\n",
      "  extra_warning_msg=_LOGISTIC_SOLVER_CONVERGENCE_MSG)\n"
     ]
    },
    {
     "name": "stdout",
     "output_type": "stream",
     "text": [
      "[0.90886867 0.90330029 0.91551209 0.91361043 0.90138549]\n"
     ]
    },
    {
     "name": "stderr",
     "output_type": "stream",
     "text": [
      "/opt/conda/lib/python3.7/site-packages/sklearn/linear_model/_logistic.py:765: ConvergenceWarning: lbfgs failed to converge (status=1):\n",
      "STOP: TOTAL NO. of ITERATIONS REACHED LIMIT.\n",
      "\n",
      "Increase the number of iterations (max_iter) or scale the data as shown in:\n",
      "    https://scikit-learn.org/stable/modules/preprocessing.html\n",
      "Please also refer to the documentation for alternative solver options:\n",
      "    https://scikit-learn.org/stable/modules/linear_model.html#logistic-regression\n",
      "  extra_warning_msg=_LOGISTIC_SOLVER_CONVERGENCE_MSG)\n"
     ]
    }
   ],
   "source": [
    "logreg = LogisticRegression(C=0.01, penalty='l2',random_state=2)\n",
    "\n",
    "#Fiting the model\n",
    "logreg.fit(X_train, y_train)\n",
    "           \n",
    "# Printing the Training Score\n",
    "print(\"Cross Validation of X and y Train: \")\n",
    "print(cross_val_score(logreg,X_train, y_train, cv=5, scoring='recall'))"
   ]
  },
  {
   "cell_type": "code",
   "execution_count": 64,
   "metadata": {
    "execution": {
     "iopub.execute_input": "2021-03-24T16:52:19.169541Z",
     "iopub.status.busy": "2021-03-24T16:52:19.167779Z",
     "iopub.status.idle": "2021-03-24T16:52:19.461847Z",
     "shell.execute_reply": "2021-03-24T16:52:19.461286Z"
    },
    "papermill": {
     "duration": 0.374635,
     "end_time": "2021-03-24T16:52:19.461996",
     "exception": false,
     "start_time": "2021-03-24T16:52:19.087361",
     "status": "completed"
    },
    "tags": []
   },
   "outputs": [
    {
     "name": "stdout",
     "output_type": "stream",
     "text": [
      "[[110291    161]\n",
      " [   780   8564]]\n",
      "\n",
      "LogReg classification\n",
      "accuracy: 0.9921449797989916\n",
      "precision: 0.9815472779369627\n",
      "recall: 0.9165239726027398\n",
      "f2: 0.9288301772195832\n"
     ]
    }
   ],
   "source": [
    "y_pred = logreg.predict(X_test)\n",
    "\n",
    "print(confusion_matrix(y_test, y_pred))\n",
    "print(\"\")\n",
    "print_results(\"LogReg classification\", y_test, y_pred)"
   ]
  },
  {
   "cell_type": "code",
   "execution_count": 65,
   "metadata": {
    "execution": {
     "iopub.execute_input": "2021-03-24T16:52:19.616169Z",
     "iopub.status.busy": "2021-03-24T16:52:19.615545Z",
     "iopub.status.idle": "2021-03-24T16:52:19.795764Z",
     "shell.execute_reply": "2021-03-24T16:52:19.795124Z"
    },
    "papermill": {
     "duration": 0.261308,
     "end_time": "2021-03-24T16:52:19.795902",
     "exception": false,
     "start_time": "2021-03-24T16:52:19.534594",
     "status": "completed"
    },
    "tags": []
   },
   "outputs": [
    {
     "data": {
      "image/png": "[encoded data removed]",
      "text/plain": [
       "<Figure size 432x288 with 1 Axes>"
      ]
     },
     "metadata": {
      "needs_background": "light"
     },
     "output_type": "display_data"
    }
   ],
   "source": [
    "y_pred_prob = logreg.predict_proba(X_test)[:,1]\n",
    "\n",
    "# Generate precision recall curve values: precision, recall, thresholds\n",
    "precision, recall, thresholds = precision_recall_curve(y_test, y_pred_prob)\n",
    "\n",
    "# Plot ROC curve\n",
    "plt.plot(precision, recall)\n",
    "plt.xlabel('Recall')\n",
    "plt.ylabel('Precision')\n",
    "plt.title('Precision Recall Curve')\n",
    "plt.show()"
   ]
  },
  {
   "cell_type": "code",
   "execution_count": 66,
   "metadata": {
    "execution": {
     "iopub.execute_input": "2021-03-24T16:52:19.950838Z",
     "iopub.status.busy": "2021-03-24T16:52:19.949923Z",
     "iopub.status.idle": "2021-03-24T16:52:20.266462Z",
     "shell.execute_reply": "2021-03-24T16:52:20.265973Z"
    },
    "papermill": {
     "duration": 0.396189,
     "end_time": "2021-03-24T16:52:20.266599",
     "exception": false,
     "start_time": "2021-03-24T16:52:19.870410",
     "status": "completed"
    },
    "tags": []
   },
   "outputs": [
    {
     "name": "stdout",
     "output_type": "stream",
     "text": [
      "ROC_AUC score:  0.9880265214846938\n"
     ]
    },
    {
     "data": {
      "text/plain": [
       "[<matplotlib.lines.Line2D at 0x7f1375c00590>]"
      ]
     },
     "execution_count": 66,
     "metadata": {},
     "output_type": "execute_result"
    },
    {
     "data": {
      "image/png": "[encoded data removed]",
      "text/plain": [
       "<Figure size 432x288 with 1 Axes>"
      ]
     },
     "metadata": {
      "needs_background": "light"
     },
     "output_type": "display_data"
    }
   ],
   "source": [
    "print(\"ROC_AUC score: \",roc_auc_score(y_test, y_pred_prob))\n",
    "fpr, tpr, _ = roc_curve(y_test, y_pred_prob)\n",
    "plt.plot(fpr, tpr)\n"
   ]
  },
  {
   "cell_type": "code",
   "execution_count": 67,
   "metadata": {
    "execution": {
     "iopub.execute_input": "2021-03-24T16:52:20.422088Z",
     "iopub.status.busy": "2021-03-24T16:52:20.421461Z",
     "iopub.status.idle": "2021-03-24T16:52:20.705896Z",
     "shell.execute_reply": "2021-03-24T16:52:20.704757Z"
    },
    "papermill": {
     "duration": 0.364385,
     "end_time": "2021-03-24T16:52:20.706054",
     "exception": false,
     "start_time": "2021-03-24T16:52:20.341669",
     "status": "completed"
    },
    "tags": []
   },
   "outputs": [],
   "source": [
    "from sklearn.model_selection import RepeatedStratifiedKFold\n",
    "from xgboost import XGBClassifier"
   ]
  },
  {
   "cell_type": "code",
   "execution_count": 68,
   "metadata": {
    "execution": {
     "iopub.execute_input": "2021-03-24T16:52:20.863634Z",
     "iopub.status.busy": "2021-03-24T16:52:20.863021Z",
     "iopub.status.idle": "2021-03-24T16:52:20.866449Z",
     "shell.execute_reply": "2021-03-24T16:52:20.865942Z"
    },
    "papermill": {
     "duration": 0.08434,
     "end_time": "2021-03-24T16:52:20.866587",
     "exception": false,
     "start_time": "2021-03-24T16:52:20.782247",
     "status": "completed"
    },
    "tags": []
   },
   "outputs": [],
   "source": [
    "model = XGBClassifier()"
   ]
  },
  {
   "cell_type": "code",
   "execution_count": 69,
   "metadata": {
    "execution": {
     "iopub.execute_input": "2021-03-24T16:52:21.022089Z",
     "iopub.status.busy": "2021-03-24T16:52:21.021491Z",
     "iopub.status.idle": "2021-03-24T16:52:21.024453Z",
     "shell.execute_reply": "2021-03-24T16:52:21.023973Z"
    },
    "papermill": {
     "duration": 0.082774,
     "end_time": "2021-03-24T16:52:21.024590",
     "exception": false,
     "start_time": "2021-03-24T16:52:20.941816",
     "status": "completed"
    },
    "tags": []
   },
   "outputs": [],
   "source": [
    "#weights = [1, 10, 25, 50, 75, 99, 100, 1000]\n",
    "#param_grid = dict(scale_pos_weight=weights)\n",
    "# define evaluation procedure\n",
    "#cv = RepeatedStratifiedKFold(n_splits=10, n_repeats=3, random_state=1)\n",
    "# define grid search\n",
    "#grid = GridSearchCV(estimator=model, param_grid=param_grid, n_jobs=1, cv=cv, scoring='roc_auc')\n",
    "# execute the grid search\n",
    "#grid_result = grid.fit(X_train, y_train)\n",
    "#print(\"Best: %f using %s\" % (grid_result.best_score_, grid_result.best_params_))\n",
    "#means = grid_result.cv_results_['mean_test_score']\n",
    "#stds = grid_result.cv_results_['std_test_score']\n",
    "#params = grid_result.cv_results_['params']\n",
    "#for mean, stdev, param in zip(means, stds, params):\n",
    "#    print(\"%f (%f) with: %r\" % (mean, stdev, param))"
   ]
  },
  {
   "cell_type": "code",
   "execution_count": 70,
   "metadata": {
    "execution": {
     "iopub.execute_input": "2021-03-24T16:52:21.181012Z",
     "iopub.status.busy": "2021-03-24T16:52:21.180340Z",
     "iopub.status.idle": "2021-03-24T16:53:00.410193Z",
     "shell.execute_reply": "2021-03-24T16:53:00.410735Z"
    },
    "papermill": {
     "duration": 39.310123,
     "end_time": "2021-03-24T16:53:00.410907",
     "exception": false,
     "start_time": "2021-03-24T16:52:21.100784",
     "status": "completed"
    },
    "tags": []
   },
   "outputs": [
    {
     "name": "stderr",
     "output_type": "stream",
     "text": [
      "/opt/conda/lib/python3.7/site-packages/xgboost/sklearn.py:888: UserWarning: The use of label encoder in XGBClassifier is deprecated and will be removed in a future release. To remove this warning, do the following: 1) Pass option use_label_encoder=False when constructing XGBClassifier object; and 2) Encode your labels (y) as integers starting with 0, i.e. 0, 1, 2, ..., [num_class - 1].\n",
      "  warnings.warn(label_encoder_deprecation_msg, UserWarning)\n"
     ]
    },
    {
     "name": "stdout",
     "output_type": "stream",
     "text": [
      "[16:52:22] WARNING: ../src/learner.cc:1061: Starting in XGBoost 1.3.0, the default evaluation metric used with the objective 'binary:logistic' was changed from 'error' to 'logloss'. Explicitly set eval_metric if you'd like to restore the old behavior.\n"
     ]
    },
    {
     "data": {
      "text/plain": [
       "XGBClassifier(base_score=0.5, booster='gbtree', colsample_bylevel=1,\n",
       "              colsample_bynode=1, colsample_bytree=1, gamma=0, gpu_id=-1,\n",
       "              importance_type='gain', interaction_constraints='',\n",
       "              learning_rate=0.300000012, max_delta_step=0, max_depth=7,\n",
       "              min_child_weight=1, missing=nan, monotone_constraints='()',\n",
       "              n_estimators=50, n_jobs=4, num_parallel_tree=1, random_state=0,\n",
       "              reg_alpha=0, reg_lambda=1, scale_pos_weight=25, subsample=1,\n",
       "              tree_method='exact', validate_parameters=1, verbosity=None)"
      ]
     },
     "execution_count": 70,
     "metadata": {},
     "output_type": "execute_result"
    }
   ],
   "source": [
    "xgb = XGBClassifier(max_depth=7, scale_pos_weight = 25, n_estimators = 50)\n",
    "xgb.fit(X_train, y_train)"
   ]
  },
  {
   "cell_type": "code",
   "execution_count": 71,
   "metadata": {
    "execution": {
     "iopub.execute_input": "2021-03-24T16:53:00.572140Z",
     "iopub.status.busy": "2021-03-24T16:53:00.571478Z",
     "iopub.status.idle": "2021-03-24T16:53:01.199747Z",
     "shell.execute_reply": "2021-03-24T16:53:01.199115Z"
    },
    "papermill": {
     "duration": 0.712324,
     "end_time": "2021-03-24T16:53:01.199888",
     "exception": false,
     "start_time": "2021-03-24T16:53:00.487564",
     "status": "completed"
    },
    "tags": []
   },
   "outputs": [
    {
     "name": "stdout",
     "output_type": "stream",
     "text": [
      "Training score data: \n",
      "0.9985579591887842\n"
     ]
    }
   ],
   "source": [
    "print(\"Training score data: \")\n",
    "print(xgb.score(X_train, y_train))"
   ]
  },
  {
   "cell_type": "code",
   "execution_count": 72,
   "metadata": {
    "execution": {
     "iopub.execute_input": "2021-03-24T16:53:01.364279Z",
     "iopub.status.busy": "2021-03-24T16:53:01.363655Z",
     "iopub.status.idle": "2021-03-24T16:53:01.772848Z",
     "shell.execute_reply": "2021-03-24T16:53:01.773530Z"
    },
    "papermill": {
     "duration": 0.495074,
     "end_time": "2021-03-24T16:53:01.773764",
     "exception": false,
     "start_time": "2021-03-24T16:53:01.278690",
     "status": "completed"
    },
    "tags": []
   },
   "outputs": [
    {
     "name": "stdout",
     "output_type": "stream",
     "text": [
      "[[110231    221]\n",
      " [    75   9269]]\n",
      "XGB classification\n",
      "accuracy: 0.997529132859194\n",
      "precision: 0.9767123287671233\n",
      "recall: 0.9919734589041096\n",
      "f2: 0.9888831989075235\n"
     ]
    }
   ],
   "source": [
    "y_pred = xgb.predict(X_test)\n",
    "\n",
    "print(confusion_matrix(y_test, y_pred))\n",
    "print_results(\"XGB classification\", y_test, y_pred)"
   ]
  },
  {
   "cell_type": "code",
   "execution_count": 73,
   "metadata": {
    "execution": {
     "iopub.execute_input": "2021-03-24T16:53:01.939529Z",
     "iopub.status.busy": "2021-03-24T16:53:01.938760Z",
     "iopub.status.idle": "2021-03-24T16:53:02.007351Z",
     "shell.execute_reply": "2021-03-24T16:53:02.007939Z"
    },
    "papermill": {
     "duration": 0.15355,
     "end_time": "2021-03-24T16:53:02.008120",
     "exception": false,
     "start_time": "2021-03-24T16:53:01.854570",
     "status": "completed"
    },
    "tags": []
   },
   "outputs": [],
   "source": [
    "from sklearn.inspection import permutation_importance"
   ]
  },
  {
   "cell_type": "code",
   "execution_count": 74,
   "metadata": {
    "execution": {
     "iopub.execute_input": "2021-03-24T16:53:02.195569Z",
     "iopub.status.busy": "2021-03-24T16:53:02.194626Z",
     "iopub.status.idle": "2021-03-24T16:53:02.494629Z",
     "shell.execute_reply": "2021-03-24T16:53:02.494014Z"
    },
    "papermill": {
     "duration": 0.402939,
     "end_time": "2021-03-24T16:53:02.494778",
     "exception": false,
     "start_time": "2021-03-24T16:53:02.091839",
     "status": "completed"
    },
    "tags": []
   },
   "outputs": [
    {
     "data": {
      "image/png": "[encoded data removed]",
      "text/plain": [
       "<Figure size 432x288 with 1 Axes>"
      ]
     },
     "metadata": {
      "needs_background": "light"
     },
     "output_type": "display_data"
    }
   ],
   "source": [
    "y_pred_prob = xgb.predict_proba(X_test)[:,1]\n",
    "\n",
    "# Generate precision recall curve values: precision, recall, thresholds\n",
    "precision, recall, thresholds = precision_recall_curve(y_test, y_pred_prob)\n",
    "\n",
    "# Plot ROC curve\n",
    "plt.plot(precision, recall)\n",
    "plt.xlabel('Recall')\n",
    "plt.ylabel('Precision')\n",
    "plt.title('Precision Recall Curve')\n",
    "plt.show()"
   ]
  },
  {
   "cell_type": "code",
   "execution_count": 75,
   "metadata": {
    "execution": {
     "iopub.execute_input": "2021-03-24T16:53:02.657116Z",
     "iopub.status.busy": "2021-03-24T16:53:02.656530Z",
     "iopub.status.idle": "2021-03-24T16:53:02.850797Z",
     "shell.execute_reply": "2021-03-24T16:53:02.851276Z"
    },
    "papermill": {
     "duration": 0.277324,
     "end_time": "2021-03-24T16:53:02.851462",
     "exception": false,
     "start_time": "2021-03-24T16:53:02.574138",
     "status": "completed"
    },
    "tags": []
   },
   "outputs": [
    {
     "name": "stdout",
     "output_type": "stream",
     "text": [
      "ROC_AUC score:  0.9997271597113219\n"
     ]
    },
    {
     "data": {
      "text/plain": [
       "[<matplotlib.lines.Line2D at 0x7f1371971210>]"
      ]
     },
     "execution_count": 75,
     "metadata": {},
     "output_type": "execute_result"
    },
    {
     "data": {
      "image/png": "[encoded data removed]",
      "text/plain": [
       "<Figure size 432x288 with 1 Axes>"
      ]
     },
     "metadata": {
      "needs_background": "light"
     },
     "output_type": "display_data"
    }
   ],
   "source": [
    "print(\"ROC_AUC score: \",roc_auc_score(y_test, y_pred_prob))\n",
    "fpr, tpr, _ = roc_curve(y_test, y_pred_prob)\n",
    "plt.plot(fpr, tpr)\n"
   ]
  },
  {
   "cell_type": "markdown",
   "metadata": {
    "papermill": {
     "duration": 0.080843,
     "end_time": "2021-03-24T16:53:03.013870",
     "exception": false,
     "start_time": "2021-03-24T16:53:02.933027",
     "status": "completed"
    },
    "tags": []
   },
   "source": [
    "# Making predictions\n"
   ]
  },
  {
   "cell_type": "code",
   "execution_count": 76,
   "metadata": {
    "execution": {
     "iopub.execute_input": "2021-03-24T16:53:03.180807Z",
     "iopub.status.busy": "2021-03-24T16:53:03.179868Z",
     "iopub.status.idle": "2021-03-24T16:53:03.559700Z",
     "shell.execute_reply": "2021-03-24T16:53:03.560270Z"
    },
    "papermill": {
     "duration": 0.465074,
     "end_time": "2021-03-24T16:53:03.560494",
     "exception": false,
     "start_time": "2021-03-24T16:53:03.095420",
     "status": "completed"
    },
    "tags": []
   },
   "outputs": [],
   "source": [
    "test_df.drop(['default_ind'],1,inplace=True)\n",
    "preds=xgb.predict(test_df)"
   ]
  },
  {
   "cell_type": "code",
   "execution_count": 77,
   "metadata": {
    "execution": {
     "iopub.execute_input": "2021-03-24T16:53:03.726884Z",
     "iopub.status.busy": "2021-03-24T16:53:03.726224Z",
     "iopub.status.idle": "2021-03-24T16:53:26.466759Z",
     "shell.execute_reply": "2021-03-24T16:53:26.467237Z"
    },
    "papermill": {
     "duration": 22.824487,
     "end_time": "2021-03-24T16:53:26.467439",
     "exception": false,
     "start_time": "2021-03-24T16:53:03.642952",
     "status": "completed"
    },
    "tags": []
   },
   "outputs": [],
   "source": [
    "predictions=pd.DataFrame([preds])\n",
    "predictions=predictions.T"
   ]
  },
  {
   "cell_type": "code",
   "execution_count": 78,
   "metadata": {
    "execution": {
     "iopub.execute_input": "2021-03-24T16:53:26.657220Z",
     "iopub.status.busy": "2021-03-24T16:53:26.656046Z",
     "iopub.status.idle": "2021-03-24T16:53:26.663399Z",
     "shell.execute_reply": "2021-03-24T16:53:26.663860Z"
    },
    "papermill": {
     "duration": 0.115456,
     "end_time": "2021-03-24T16:53:26.664037",
     "exception": false,
     "start_time": "2021-03-24T16:53:26.548581",
     "status": "completed"
    },
    "tags": []
   },
   "outputs": [],
   "source": [
    "test=test['id']\n",
    "final = pd.concat([test,predictions.set_index(test.index)], axis=1)\n",
    "final.columns=['id','default_ind']"
   ]
  },
  {
   "cell_type": "code",
   "execution_count": 79,
   "metadata": {
    "execution": {
     "iopub.execute_input": "2021-03-24T16:53:26.827646Z",
     "iopub.status.busy": "2021-03-24T16:53:26.827088Z",
     "iopub.status.idle": "2021-03-24T16:53:27.528223Z",
     "shell.execute_reply": "2021-03-24T16:53:27.526922Z"
    },
    "papermill": {
     "duration": 0.784434,
     "end_time": "2021-03-24T16:53:27.528513",
     "exception": false,
     "start_time": "2021-03-24T16:53:26.744079",
     "status": "completed"
    },
    "tags": []
   },
   "outputs": [],
   "source": [
    "final.to_csv('predictions_xgb_v1.0.csv')"
   ]
  },
  {
   "cell_type": "markdown",
   "metadata": {
    "papermill": {
     "duration": 0.081618,
     "end_time": "2021-03-24T16:53:27.691272",
     "exception": false,
     "start_time": "2021-03-24T16:53:27.609654",
     "status": "completed"
    },
    "tags": []
   },
   "source": [
    "Extra Experiments"
   ]
  },
  {
   "cell_type": "code",
   "execution_count": 80,
   "metadata": {
    "execution": {
     "iopub.execute_input": "2021-03-24T16:53:27.859730Z",
     "iopub.status.busy": "2021-03-24T16:53:27.859056Z",
     "iopub.status.idle": "2021-03-24T16:53:28.372241Z",
     "shell.execute_reply": "2021-03-24T16:53:28.371696Z"
    },
    "papermill": {
     "duration": 0.600656,
     "end_time": "2021-03-24T16:53:28.372402",
     "exception": false,
     "start_time": "2021-03-24T16:53:27.771746",
     "status": "completed"
    },
    "tags": []
   },
   "outputs": [
    {
     "data": {
      "image/png": "[encoded data removed]",
      "text/plain": [
       "<Figure size 432x288 with 1 Axes>"
      ]
     },
     "metadata": {
      "needs_background": "light"
     },
     "output_type": "display_data"
    }
   ],
   "source": [
    "import seaborn as sns\n",
    "feat_import = pd.DataFrame({'Feature': col, 'Feature importance': xgb.feature_importances_})\n",
    "feat_import = feat_import.sort_values(by='Feature importance',ascending=False)\n",
    "\n",
    "g = sns.barplot(x='Feature',y='Feature importance',data=feat_import)\n",
    "g.set_xticklabels(g.get_xticklabels(),rotation=90)\n",
    "g.set_title('Features importance - XGB',fontsize=20)\n",
    "plt.show() "
   ]
  },
  {
   "cell_type": "code",
   "execution_count": 81,
   "metadata": {
    "execution": {
     "iopub.execute_input": "2021-03-24T16:53:28.610066Z",
     "iopub.status.busy": "2021-03-24T16:53:28.583994Z",
     "iopub.status.idle": "2021-03-24T16:53:28.614112Z",
     "shell.execute_reply": "2021-03-24T16:53:28.613622Z"
    },
    "papermill": {
     "duration": 0.159288,
     "end_time": "2021-03-24T16:53:28.614255",
     "exception": false,
     "start_time": "2021-03-24T16:53:28.454967",
     "status": "completed"
    },
    "tags": []
   },
   "outputs": [],
   "source": [
    "x=train_df\n",
    "x.drop(['default_ind'],1,inplace=True)"
   ]
  },
  {
   "cell_type": "code",
   "execution_count": 82,
   "metadata": {
    "execution": {
     "iopub.execute_input": "2021-03-24T16:53:28.789049Z",
     "iopub.status.busy": "2021-03-24T16:53:28.788439Z",
     "iopub.status.idle": "2021-03-24T16:54:28.103096Z",
     "shell.execute_reply": "2021-03-24T16:54:28.102571Z"
    },
    "papermill": {
     "duration": 59.405637,
     "end_time": "2021-03-24T16:54:28.103230",
     "exception": false,
     "start_time": "2021-03-24T16:53:28.697593",
     "status": "completed"
    },
    "tags": []
   },
   "outputs": [
    {
     "data": {
      "image/png": "[encoded data removed]",
      "text/plain": [
       "<Figure size 864x864 with 1 Axes>"
      ]
     },
     "metadata": {
      "needs_background": "light"
     },
     "output_type": "display_data"
    },
    {
     "data": {
      "text/plain": [
       "<Figure size 648x360 with 0 Axes>"
      ]
     },
     "metadata": {},
     "output_type": "display_data"
    }
   ],
   "source": [
    "result = permutation_importance(xgb, X_test, y_test, n_repeats=10,\n",
    "                                random_state=42, n_jobs=2)\n",
    "sorted_idx = result.importances_mean.argsort()\n",
    "\n",
    "fig, ax = plt.subplots(figsize=(12, 12))\n",
    "ax.boxplot(result.importances[sorted_idx].T,\n",
    "           vert=False, labels=x.columns[sorted_idx])\n",
    "ax.set_title(\"Permutation Importances XGB (test set)\")\n",
    "plt.figure(figsize = (9,5))\n",
    "plt.show()"
   ]
  },
  {
   "cell_type": "code",
   "execution_count": null,
   "metadata": {
    "papermill": {
     "duration": 0.08366,
     "end_time": "2021-03-24T16:54:28.271436",
     "exception": false,
     "start_time": "2021-03-24T16:54:28.187776",
     "status": "completed"
    },
    "tags": []
   },
   "outputs": [],
   "source": []
  }
 ],
 "metadata": {
  "kernelspec": {
   "display_name": "Python 3",
   "language": "python",
   "name": "python3"
  },
  "language_info": {
   "codemirror_mode": {
    "name": "ipython",
    "version": 3
   },
   "file_extension": ".py",
   "mimetype": "text/x-python",
   "name": "python",
   "nbconvert_exporter": "python",
   "pygments_lexer": "ipython3",
   "version": "3.7.9"
  },
  "papermill": {
   "default_parameters": {},
   "duration": 789.866221,
   "end_time": "2021-03-24T16:54:29.569331",
   "environment_variables": {},
   "exception": null,
   "input_path": "__notebook__.ipynb",
   "output_path": "__notebook__.ipynb",
   "parameters": {},
   "start_time": "2021-03-24T16:41:19.703110",
   "version": "2.2.2"
  }
 },
 "nbformat": 4,
 "nbformat_minor": 4
}
